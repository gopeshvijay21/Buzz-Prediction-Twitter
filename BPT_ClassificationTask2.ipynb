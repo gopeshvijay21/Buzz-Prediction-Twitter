{
 "cells": [
  {
   "cell_type": "markdown",
   "metadata": {},
   "source": [
    "### <font color='red'> Buzz Prediction on Twitter (Classification Part II)\n",
    "\n",
    "This is a continuation of the Classification Task and the objectives are as below:\n",
    "- Applied four voting classifier, two with hard voting and two with soft voting.\n",
    "- Applied previous two models with adaboost boosting.\n",
    "- Applied one model with gradient bossting.\n",
    "- Applied PCA on the data and then applied all the previous models again on top of this. \n",
    "- Compared the results of PCA with the previous models\n",
    "- Applied a deep learning model\n"
   ]
  },
  {
   "cell_type": "code",
   "execution_count": 4,
   "metadata": {},
   "outputs": [],
   "source": [
    "import numpy as np\n",
    "import pandas as pd\n",
    "import matplotlib.pyplot as plt\n",
    "import seaborn as sns\n",
    "import warnings\n",
    "warnings.filterwarnings('ignore')\n",
    "%matplotlib inline"
   ]
  },
  {
   "cell_type": "code",
   "execution_count": 5,
   "metadata": {},
   "outputs": [],
   "source": [
    "data = pd.read_csv('Twitter-Absolute-Sigma-500.data', header=None)"
   ]
  },
  {
   "cell_type": "code",
   "execution_count": 6,
   "metadata": {},
   "outputs": [],
   "source": [
    "data.columns = ['NCD_0','NCD_1','NCD_2','NCD_3','NCD_4','NCD_5','NCD_6','AI_0','AI_1','AI_2','AI_3','AI_4','AI_5','AI_6',\n",
    "               'AS(NA)_0','AS(NA)_1','AS(NA)_2','AS(NA)_3','AS(NA)_4','AS(NA)_5','AS(NA)_6','BL_0','BL_1','BL_2','BL_3',\n",
    "                'BL_4','BL_5','BL_6','NAC_0','NAC_1','NAC_2','NAC_3','NAC_4','NAC_5','NAC_6','AS(NAC)_0','AS(NAC)_1',\n",
    "               'AS(NAC)_2','AS(NAC)_3','AS(NAC)_4','AS(NAC)_5','AS(NAC)_6','CS_0','CS_1','CS_2','CS_3','CS_4','CS_5','CS_6',\n",
    "               'AT_0','AT_1','AT_2','AT_3','AT_4','AT_5','AT_6','NA_0','NA_1','NA_2','NA_3','NA_4','NA_5','NA_6','ADL_0',\n",
    "               'ADL_1','ADL_2','ADL_3','ADL_4','ADL_5','ADL_6','NAD_0','NAD_1','NAD_2','NAD_3','NAD_4','NAD_5','NAD_6','Target']"
   ]
  },
  {
   "cell_type": "code",
   "execution_count": 4,
   "metadata": {},
   "outputs": [
    {
     "data": {
      "text/html": [
       "<div>\n",
       "<style scoped>\n",
       "    .dataframe tbody tr th:only-of-type {\n",
       "        vertical-align: middle;\n",
       "    }\n",
       "\n",
       "    .dataframe tbody tr th {\n",
       "        vertical-align: top;\n",
       "    }\n",
       "\n",
       "    .dataframe thead th {\n",
       "        text-align: right;\n",
       "    }\n",
       "</style>\n",
       "<table border=\"1\" class=\"dataframe\">\n",
       "  <thead>\n",
       "    <tr style=\"text-align: right;\">\n",
       "      <th></th>\n",
       "      <th>NCD_0</th>\n",
       "      <th>NCD_1</th>\n",
       "      <th>NCD_2</th>\n",
       "      <th>NCD_3</th>\n",
       "      <th>NCD_4</th>\n",
       "      <th>NCD_5</th>\n",
       "      <th>NCD_6</th>\n",
       "      <th>AI_0</th>\n",
       "      <th>AI_1</th>\n",
       "      <th>AI_2</th>\n",
       "      <th>...</th>\n",
       "      <th>ADL_5</th>\n",
       "      <th>ADL_6</th>\n",
       "      <th>NAD_0</th>\n",
       "      <th>NAD_1</th>\n",
       "      <th>NAD_2</th>\n",
       "      <th>NAD_3</th>\n",
       "      <th>NAD_4</th>\n",
       "      <th>NAD_5</th>\n",
       "      <th>NAD_6</th>\n",
       "      <th>Target</th>\n",
       "    </tr>\n",
       "  </thead>\n",
       "  <tbody>\n",
       "    <tr>\n",
       "      <th>0</th>\n",
       "      <td>889</td>\n",
       "      <td>939</td>\n",
       "      <td>960</td>\n",
       "      <td>805</td>\n",
       "      <td>805</td>\n",
       "      <td>1143</td>\n",
       "      <td>1121</td>\n",
       "      <td>549</td>\n",
       "      <td>613</td>\n",
       "      <td>587</td>\n",
       "      <td>...</td>\n",
       "      <td>1.0</td>\n",
       "      <td>1.0</td>\n",
       "      <td>889</td>\n",
       "      <td>939</td>\n",
       "      <td>960</td>\n",
       "      <td>805</td>\n",
       "      <td>805</td>\n",
       "      <td>1143</td>\n",
       "      <td>1121</td>\n",
       "      <td>1.0</td>\n",
       "    </tr>\n",
       "    <tr>\n",
       "      <th>1</th>\n",
       "      <td>542</td>\n",
       "      <td>473</td>\n",
       "      <td>504</td>\n",
       "      <td>626</td>\n",
       "      <td>647</td>\n",
       "      <td>795</td>\n",
       "      <td>832</td>\n",
       "      <td>366</td>\n",
       "      <td>288</td>\n",
       "      <td>318</td>\n",
       "      <td>...</td>\n",
       "      <td>1.0</td>\n",
       "      <td>1.0</td>\n",
       "      <td>542</td>\n",
       "      <td>473</td>\n",
       "      <td>504</td>\n",
       "      <td>626</td>\n",
       "      <td>647</td>\n",
       "      <td>795</td>\n",
       "      <td>832</td>\n",
       "      <td>1.0</td>\n",
       "    </tr>\n",
       "    <tr>\n",
       "      <th>2</th>\n",
       "      <td>92</td>\n",
       "      <td>99</td>\n",
       "      <td>196</td>\n",
       "      <td>100</td>\n",
       "      <td>184</td>\n",
       "      <td>79</td>\n",
       "      <td>162</td>\n",
       "      <td>66</td>\n",
       "      <td>59</td>\n",
       "      <td>118</td>\n",
       "      <td>...</td>\n",
       "      <td>1.0</td>\n",
       "      <td>1.0</td>\n",
       "      <td>92</td>\n",
       "      <td>99</td>\n",
       "      <td>196</td>\n",
       "      <td>100</td>\n",
       "      <td>184</td>\n",
       "      <td>79</td>\n",
       "      <td>162</td>\n",
       "      <td>0.0</td>\n",
       "    </tr>\n",
       "    <tr>\n",
       "      <th>3</th>\n",
       "      <td>90</td>\n",
       "      <td>87</td>\n",
       "      <td>92</td>\n",
       "      <td>344</td>\n",
       "      <td>184</td>\n",
       "      <td>848</td>\n",
       "      <td>184</td>\n",
       "      <td>83</td>\n",
       "      <td>78</td>\n",
       "      <td>76</td>\n",
       "      <td>...</td>\n",
       "      <td>1.0</td>\n",
       "      <td>1.0</td>\n",
       "      <td>90</td>\n",
       "      <td>87</td>\n",
       "      <td>92</td>\n",
       "      <td>344</td>\n",
       "      <td>184</td>\n",
       "      <td>848</td>\n",
       "      <td>184</td>\n",
       "      <td>1.0</td>\n",
       "    </tr>\n",
       "    <tr>\n",
       "      <th>4</th>\n",
       "      <td>169</td>\n",
       "      <td>98</td>\n",
       "      <td>101</td>\n",
       "      <td>90</td>\n",
       "      <td>96</td>\n",
       "      <td>95</td>\n",
       "      <td>185</td>\n",
       "      <td>141</td>\n",
       "      <td>68</td>\n",
       "      <td>85</td>\n",
       "      <td>...</td>\n",
       "      <td>1.0</td>\n",
       "      <td>1.0</td>\n",
       "      <td>169</td>\n",
       "      <td>98</td>\n",
       "      <td>101</td>\n",
       "      <td>90</td>\n",
       "      <td>96</td>\n",
       "      <td>95</td>\n",
       "      <td>185</td>\n",
       "      <td>1.0</td>\n",
       "    </tr>\n",
       "  </tbody>\n",
       "</table>\n",
       "<p>5 rows × 78 columns</p>\n",
       "</div>"
      ],
      "text/plain": [
       "   NCD_0  NCD_1  NCD_2  NCD_3  NCD_4  NCD_5  NCD_6  AI_0  AI_1  AI_2   ...    \\\n",
       "0    889    939    960    805    805   1143   1121   549   613   587   ...     \n",
       "1    542    473    504    626    647    795    832   366   288   318   ...     \n",
       "2     92     99    196    100    184     79    162    66    59   118   ...     \n",
       "3     90     87     92    344    184    848    184    83    78    76   ...     \n",
       "4    169     98    101     90     96     95    185   141    68    85   ...     \n",
       "\n",
       "   ADL_5  ADL_6  NAD_0  NAD_1  NAD_2  NAD_3  NAD_4  NAD_5  NAD_6  Target  \n",
       "0    1.0    1.0    889    939    960    805    805   1143   1121     1.0  \n",
       "1    1.0    1.0    542    473    504    626    647    795    832     1.0  \n",
       "2    1.0    1.0     92     99    196    100    184     79    162     0.0  \n",
       "3    1.0    1.0     90     87     92    344    184    848    184     1.0  \n",
       "4    1.0    1.0    169     98    101     90     96     95    185     1.0  \n",
       "\n",
       "[5 rows x 78 columns]"
      ]
     },
     "execution_count": 4,
     "metadata": {},
     "output_type": "execute_result"
    }
   ],
   "source": [
    "data.head()"
   ]
  },
  {
   "cell_type": "code",
   "execution_count": 5,
   "metadata": {},
   "outputs": [
    {
     "data": {
      "text/plain": [
       "(140707, 78)"
      ]
     },
     "execution_count": 5,
     "metadata": {},
     "output_type": "execute_result"
    }
   ],
   "source": [
    "data.shape"
   ]
  },
  {
   "cell_type": "code",
   "execution_count": 6,
   "metadata": {},
   "outputs": [
    {
     "data": {
      "text/html": [
       "<div>\n",
       "<style scoped>\n",
       "    .dataframe tbody tr th:only-of-type {\n",
       "        vertical-align: middle;\n",
       "    }\n",
       "\n",
       "    .dataframe tbody tr th {\n",
       "        vertical-align: top;\n",
       "    }\n",
       "\n",
       "    .dataframe thead th {\n",
       "        text-align: right;\n",
       "    }\n",
       "</style>\n",
       "<table border=\"1\" class=\"dataframe\">\n",
       "  <thead>\n",
       "    <tr style=\"text-align: right;\">\n",
       "      <th></th>\n",
       "      <th>NCD_0</th>\n",
       "      <th>NCD_1</th>\n",
       "      <th>NCD_2</th>\n",
       "      <th>NCD_3</th>\n",
       "      <th>NCD_4</th>\n",
       "      <th>NCD_5</th>\n",
       "      <th>NCD_6</th>\n",
       "      <th>AI_0</th>\n",
       "      <th>AI_1</th>\n",
       "      <th>AI_2</th>\n",
       "      <th>...</th>\n",
       "      <th>ADL_5</th>\n",
       "      <th>ADL_6</th>\n",
       "      <th>NAD_0</th>\n",
       "      <th>NAD_1</th>\n",
       "      <th>NAD_2</th>\n",
       "      <th>NAD_3</th>\n",
       "      <th>NAD_4</th>\n",
       "      <th>NAD_5</th>\n",
       "      <th>NAD_6</th>\n",
       "      <th>Target</th>\n",
       "    </tr>\n",
       "  </thead>\n",
       "  <tbody>\n",
       "    <tr>\n",
       "      <th>count</th>\n",
       "      <td>140707.000000</td>\n",
       "      <td>140707.000000</td>\n",
       "      <td>140707.000000</td>\n",
       "      <td>140707.000000</td>\n",
       "      <td>140707.000000</td>\n",
       "      <td>140707.000000</td>\n",
       "      <td>140707.000000</td>\n",
       "      <td>140707.000000</td>\n",
       "      <td>140707.000000</td>\n",
       "      <td>140707.000000</td>\n",
       "      <td>...</td>\n",
       "      <td>140707.000000</td>\n",
       "      <td>140707.000000</td>\n",
       "      <td>140707.000000</td>\n",
       "      <td>140707.000000</td>\n",
       "      <td>140707.000000</td>\n",
       "      <td>140707.000000</td>\n",
       "      <td>140707.000000</td>\n",
       "      <td>140707.000000</td>\n",
       "      <td>140707.000000</td>\n",
       "      <td>140707.000000</td>\n",
       "    </tr>\n",
       "    <tr>\n",
       "      <th>mean</th>\n",
       "      <td>172.279823</td>\n",
       "      <td>155.150625</td>\n",
       "      <td>165.464476</td>\n",
       "      <td>176.820549</td>\n",
       "      <td>186.937700</td>\n",
       "      <td>216.209208</td>\n",
       "      <td>243.866510</td>\n",
       "      <td>87.050154</td>\n",
       "      <td>78.639236</td>\n",
       "      <td>84.269574</td>\n",
       "      <td>...</td>\n",
       "      <td>1.113444</td>\n",
       "      <td>1.196131</td>\n",
       "      <td>172.838807</td>\n",
       "      <td>155.630878</td>\n",
       "      <td>165.938674</td>\n",
       "      <td>177.314810</td>\n",
       "      <td>187.463794</td>\n",
       "      <td>216.776294</td>\n",
       "      <td>244.479194</td>\n",
       "      <td>0.197396</td>\n",
       "    </tr>\n",
       "    <tr>\n",
       "      <th>std</th>\n",
       "      <td>509.872276</td>\n",
       "      <td>471.573236</td>\n",
       "      <td>495.360236</td>\n",
       "      <td>528.351277</td>\n",
       "      <td>560.331281</td>\n",
       "      <td>632.188378</td>\n",
       "      <td>707.402192</td>\n",
       "      <td>234.731748</td>\n",
       "      <td>218.448179</td>\n",
       "      <td>233.536510</td>\n",
       "      <td>...</td>\n",
       "      <td>1.374287</td>\n",
       "      <td>1.826150</td>\n",
       "      <td>510.937549</td>\n",
       "      <td>472.462733</td>\n",
       "      <td>496.233557</td>\n",
       "      <td>529.286514</td>\n",
       "      <td>561.309487</td>\n",
       "      <td>633.203935</td>\n",
       "      <td>708.436795</td>\n",
       "      <td>0.398035</td>\n",
       "    </tr>\n",
       "    <tr>\n",
       "      <th>min</th>\n",
       "      <td>0.000000</td>\n",
       "      <td>0.000000</td>\n",
       "      <td>0.000000</td>\n",
       "      <td>0.000000</td>\n",
       "      <td>0.000000</td>\n",
       "      <td>0.000000</td>\n",
       "      <td>0.000000</td>\n",
       "      <td>0.000000</td>\n",
       "      <td>0.000000</td>\n",
       "      <td>0.000000</td>\n",
       "      <td>...</td>\n",
       "      <td>0.000000</td>\n",
       "      <td>0.000000</td>\n",
       "      <td>0.000000</td>\n",
       "      <td>0.000000</td>\n",
       "      <td>0.000000</td>\n",
       "      <td>0.000000</td>\n",
       "      <td>0.000000</td>\n",
       "      <td>0.000000</td>\n",
       "      <td>0.000000</td>\n",
       "      <td>0.000000</td>\n",
       "    </tr>\n",
       "    <tr>\n",
       "      <th>25%</th>\n",
       "      <td>3.000000</td>\n",
       "      <td>2.000000</td>\n",
       "      <td>3.000000</td>\n",
       "      <td>3.000000</td>\n",
       "      <td>3.000000</td>\n",
       "      <td>4.000000</td>\n",
       "      <td>5.000000</td>\n",
       "      <td>2.000000</td>\n",
       "      <td>2.000000</td>\n",
       "      <td>2.000000</td>\n",
       "      <td>...</td>\n",
       "      <td>1.000000</td>\n",
       "      <td>1.000000</td>\n",
       "      <td>3.000000</td>\n",
       "      <td>2.000000</td>\n",
       "      <td>3.000000</td>\n",
       "      <td>3.000000</td>\n",
       "      <td>3.000000</td>\n",
       "      <td>4.000000</td>\n",
       "      <td>6.000000</td>\n",
       "      <td>0.000000</td>\n",
       "    </tr>\n",
       "    <tr>\n",
       "      <th>50%</th>\n",
       "      <td>22.000000</td>\n",
       "      <td>19.000000</td>\n",
       "      <td>20.000000</td>\n",
       "      <td>22.000000</td>\n",
       "      <td>23.000000</td>\n",
       "      <td>28.000000</td>\n",
       "      <td>33.000000</td>\n",
       "      <td>13.000000</td>\n",
       "      <td>11.000000</td>\n",
       "      <td>13.000000</td>\n",
       "      <td>...</td>\n",
       "      <td>1.000000</td>\n",
       "      <td>1.000000</td>\n",
       "      <td>22.000000</td>\n",
       "      <td>19.000000</td>\n",
       "      <td>21.000000</td>\n",
       "      <td>22.000000</td>\n",
       "      <td>23.000000</td>\n",
       "      <td>28.000000</td>\n",
       "      <td>33.000000</td>\n",
       "      <td>0.000000</td>\n",
       "    </tr>\n",
       "    <tr>\n",
       "      <th>75%</th>\n",
       "      <td>125.000000</td>\n",
       "      <td>112.000000</td>\n",
       "      <td>119.000000</td>\n",
       "      <td>126.000000</td>\n",
       "      <td>133.000000</td>\n",
       "      <td>161.000000</td>\n",
       "      <td>186.000000</td>\n",
       "      <td>70.000000</td>\n",
       "      <td>64.000000</td>\n",
       "      <td>67.000000</td>\n",
       "      <td>...</td>\n",
       "      <td>1.100000</td>\n",
       "      <td>1.119048</td>\n",
       "      <td>126.000000</td>\n",
       "      <td>113.000000</td>\n",
       "      <td>119.000000</td>\n",
       "      <td>127.000000</td>\n",
       "      <td>134.000000</td>\n",
       "      <td>162.000000</td>\n",
       "      <td>187.000000</td>\n",
       "      <td>0.000000</td>\n",
       "    </tr>\n",
       "    <tr>\n",
       "      <th>max</th>\n",
       "      <td>24210.000000</td>\n",
       "      <td>22899.000000</td>\n",
       "      <td>20495.000000</td>\n",
       "      <td>27007.000000</td>\n",
       "      <td>30957.000000</td>\n",
       "      <td>28603.000000</td>\n",
       "      <td>37505.000000</td>\n",
       "      <td>15105.000000</td>\n",
       "      <td>15730.000000</td>\n",
       "      <td>16389.000000</td>\n",
       "      <td>...</td>\n",
       "      <td>185.666672</td>\n",
       "      <td>295.000000</td>\n",
       "      <td>24301.000000</td>\n",
       "      <td>22980.000000</td>\n",
       "      <td>20495.000000</td>\n",
       "      <td>27071.000000</td>\n",
       "      <td>31028.000000</td>\n",
       "      <td>28697.000000</td>\n",
       "      <td>37505.000000</td>\n",
       "      <td>1.000000</td>\n",
       "    </tr>\n",
       "  </tbody>\n",
       "</table>\n",
       "<p>8 rows × 78 columns</p>\n",
       "</div>"
      ],
      "text/plain": [
       "               NCD_0          NCD_1          NCD_2          NCD_3  \\\n",
       "count  140707.000000  140707.000000  140707.000000  140707.000000   \n",
       "mean      172.279823     155.150625     165.464476     176.820549   \n",
       "std       509.872276     471.573236     495.360236     528.351277   \n",
       "min         0.000000       0.000000       0.000000       0.000000   \n",
       "25%         3.000000       2.000000       3.000000       3.000000   \n",
       "50%        22.000000      19.000000      20.000000      22.000000   \n",
       "75%       125.000000     112.000000     119.000000     126.000000   \n",
       "max     24210.000000   22899.000000   20495.000000   27007.000000   \n",
       "\n",
       "               NCD_4          NCD_5          NCD_6           AI_0  \\\n",
       "count  140707.000000  140707.000000  140707.000000  140707.000000   \n",
       "mean      186.937700     216.209208     243.866510      87.050154   \n",
       "std       560.331281     632.188378     707.402192     234.731748   \n",
       "min         0.000000       0.000000       0.000000       0.000000   \n",
       "25%         3.000000       4.000000       5.000000       2.000000   \n",
       "50%        23.000000      28.000000      33.000000      13.000000   \n",
       "75%       133.000000     161.000000     186.000000      70.000000   \n",
       "max     30957.000000   28603.000000   37505.000000   15105.000000   \n",
       "\n",
       "                AI_1           AI_2      ...                ADL_5  \\\n",
       "count  140707.000000  140707.000000      ...        140707.000000   \n",
       "mean       78.639236      84.269574      ...             1.113444   \n",
       "std       218.448179     233.536510      ...             1.374287   \n",
       "min         0.000000       0.000000      ...             0.000000   \n",
       "25%         2.000000       2.000000      ...             1.000000   \n",
       "50%        11.000000      13.000000      ...             1.000000   \n",
       "75%        64.000000      67.000000      ...             1.100000   \n",
       "max     15730.000000   16389.000000      ...           185.666672   \n",
       "\n",
       "               ADL_6          NAD_0          NAD_1          NAD_2  \\\n",
       "count  140707.000000  140707.000000  140707.000000  140707.000000   \n",
       "mean        1.196131     172.838807     155.630878     165.938674   \n",
       "std         1.826150     510.937549     472.462733     496.233557   \n",
       "min         0.000000       0.000000       0.000000       0.000000   \n",
       "25%         1.000000       3.000000       2.000000       3.000000   \n",
       "50%         1.000000      22.000000      19.000000      21.000000   \n",
       "75%         1.119048     126.000000     113.000000     119.000000   \n",
       "max       295.000000   24301.000000   22980.000000   20495.000000   \n",
       "\n",
       "               NAD_3          NAD_4          NAD_5          NAD_6  \\\n",
       "count  140707.000000  140707.000000  140707.000000  140707.000000   \n",
       "mean      177.314810     187.463794     216.776294     244.479194   \n",
       "std       529.286514     561.309487     633.203935     708.436795   \n",
       "min         0.000000       0.000000       0.000000       0.000000   \n",
       "25%         3.000000       3.000000       4.000000       6.000000   \n",
       "50%        22.000000      23.000000      28.000000      33.000000   \n",
       "75%       127.000000     134.000000     162.000000     187.000000   \n",
       "max     27071.000000   31028.000000   28697.000000   37505.000000   \n",
       "\n",
       "              Target  \n",
       "count  140707.000000  \n",
       "mean        0.197396  \n",
       "std         0.398035  \n",
       "min         0.000000  \n",
       "25%         0.000000  \n",
       "50%         0.000000  \n",
       "75%         0.000000  \n",
       "max         1.000000  \n",
       "\n",
       "[8 rows x 78 columns]"
      ]
     },
     "execution_count": 6,
     "metadata": {},
     "output_type": "execute_result"
    }
   ],
   "source": [
    "data.describe()"
   ]
  },
  {
   "cell_type": "code",
   "execution_count": 7,
   "metadata": {},
   "outputs": [
    {
     "name": "stdout",
     "output_type": "stream",
     "text": [
      "<class 'pandas.core.frame.DataFrame'>\n",
      "RangeIndex: 140707 entries, 0 to 140706\n",
      "Data columns (total 78 columns):\n",
      "NCD_0        140707 non-null int64\n",
      "NCD_1        140707 non-null int64\n",
      "NCD_2        140707 non-null int64\n",
      "NCD_3        140707 non-null int64\n",
      "NCD_4        140707 non-null int64\n",
      "NCD_5        140707 non-null int64\n",
      "NCD_6        140707 non-null int64\n",
      "AI_0         140707 non-null int64\n",
      "AI_1         140707 non-null int64\n",
      "AI_2         140707 non-null int64\n",
      "AI_3         140707 non-null int64\n",
      "AI_4         140707 non-null int64\n",
      "AI_5         140707 non-null int64\n",
      "AI_6         140707 non-null int64\n",
      "AS(NA)_0     140707 non-null float64\n",
      "AS(NA)_1     140707 non-null float64\n",
      "AS(NA)_2     140707 non-null float64\n",
      "AS(NA)_3     140707 non-null float64\n",
      "AS(NA)_4     140707 non-null float64\n",
      "AS(NA)_5     140707 non-null float64\n",
      "AS(NA)_6     140707 non-null float64\n",
      "BL_0         140707 non-null float64\n",
      "BL_1         140707 non-null float64\n",
      "BL_2         140707 non-null float64\n",
      "BL_3         140707 non-null float64\n",
      "BL_4         140707 non-null float64\n",
      "BL_5         140707 non-null float64\n",
      "BL_6         140707 non-null float64\n",
      "NAC_0        140707 non-null int64\n",
      "NAC_1        140707 non-null int64\n",
      "NAC_2        140707 non-null int64\n",
      "NAC_3        140707 non-null int64\n",
      "NAC_4        140707 non-null int64\n",
      "NAC_5        140707 non-null int64\n",
      "NAC_6        140707 non-null int64\n",
      "AS(NAC)_0    140707 non-null float64\n",
      "AS(NAC)_1    140707 non-null float64\n",
      "AS(NAC)_2    140707 non-null float64\n",
      "AS(NAC)_3    140707 non-null float64\n",
      "AS(NAC)_4    140707 non-null float64\n",
      "AS(NAC)_5    140707 non-null float64\n",
      "AS(NAC)_6    140707 non-null float64\n",
      "CS_0         140707 non-null float64\n",
      "CS_1         140707 non-null float64\n",
      "CS_2         140707 non-null float64\n",
      "CS_3         140707 non-null float64\n",
      "CS_4         140707 non-null float64\n",
      "CS_5         140707 non-null float64\n",
      "CS_6         140707 non-null float64\n",
      "AT_0         140707 non-null float64\n",
      "AT_1         140707 non-null float64\n",
      "AT_2         140707 non-null float64\n",
      "AT_3         140707 non-null float64\n",
      "AT_4         140707 non-null float64\n",
      "AT_5         140707 non-null float64\n",
      "AT_6         140707 non-null float64\n",
      "NA_0         140707 non-null int64\n",
      "NA_1         140707 non-null int64\n",
      "NA_2         140707 non-null int64\n",
      "NA_3         140707 non-null int64\n",
      "NA_4         140707 non-null int64\n",
      "NA_5         140707 non-null int64\n",
      "NA_6         140707 non-null int64\n",
      "ADL_0        140707 non-null float64\n",
      "ADL_1        140707 non-null float64\n",
      "ADL_2        140707 non-null float64\n",
      "ADL_3        140707 non-null float64\n",
      "ADL_4        140707 non-null float64\n",
      "ADL_5        140707 non-null float64\n",
      "ADL_6        140707 non-null float64\n",
      "NAD_0        140707 non-null int64\n",
      "NAD_1        140707 non-null int64\n",
      "NAD_2        140707 non-null int64\n",
      "NAD_3        140707 non-null int64\n",
      "NAD_4        140707 non-null int64\n",
      "NAD_5        140707 non-null int64\n",
      "NAD_6        140707 non-null int64\n",
      "Target       140707 non-null float64\n",
      "dtypes: float64(43), int64(35)\n",
      "memory usage: 83.7 MB\n"
     ]
    }
   ],
   "source": [
    "data.info()"
   ]
  },
  {
   "cell_type": "code",
   "execution_count": 7,
   "metadata": {},
   "outputs": [],
   "source": [
    "X = data.iloc[:,:-1]\n",
    "y = data.iloc[:,-1]\n",
    "\n",
    "from sklearn.model_selection import train_test_split\n",
    "_, sample_data, _, sample_target = train_test_split(X, y, shuffle = True, test_size = 0.1)"
   ]
  },
  {
   "cell_type": "code",
   "execution_count": 8,
   "metadata": {},
   "outputs": [],
   "source": [
    "from sklearn.preprocessing import MinMaxScaler\n",
    "\n",
    "X_train_org, X_test_org, y_train, y_test = train_test_split(sample_data, sample_target, random_state = 0)\n",
    "\n",
    "scaler = MinMaxScaler()\n",
    "X_train = scaler.fit_transform(X_train_org)\n",
    "X_test = scaler.transform(X_test_org)"
   ]
  },
  {
   "cell_type": "markdown",
   "metadata": {},
   "source": [
    "# Voting Classifier"
   ]
  },
  {
   "cell_type": "code",
   "execution_count": 10,
   "metadata": {},
   "outputs": [
    {
     "name": "stderr",
     "output_type": "stream",
     "text": [
      "c:\\users\\deval\\appdata\\local\\programs\\python\\python37-32\\lib\\site-packages\\sklearn\\ensemble\\weight_boosting.py:29: DeprecationWarning: numpy.core.umath_tests is an internal NumPy module and should not be imported. It will be removed in a future NumPy release.\n",
      "  from numpy.core.umath_tests import inner1d\n"
     ]
    }
   ],
   "source": [
    "from sklearn.neighbors import KNeighborsClassifier\n",
    "from sklearn.ensemble import VotingClassifier\n",
    "from sklearn.linear_model import LogisticRegression"
   ]
  },
  {
   "cell_type": "code",
   "execution_count": 11,
   "metadata": {},
   "outputs": [
    {
     "data": {
      "text/plain": [
       "LogisticRegression(C=1.0, class_weight=None, dual=False, fit_intercept=True,\n",
       "          intercept_scaling=1, max_iter=100, multi_class='ovr', n_jobs=1,\n",
       "          penalty='l2', random_state=None, solver='liblinear', tol=0.0001,\n",
       "          verbose=0, warm_start=False)"
      ]
     },
     "execution_count": 11,
     "metadata": {},
     "output_type": "execute_result"
    }
   ],
   "source": [
    "log_clf = LogisticRegression()\n",
    "log_clf.fit(X_train, y_train)"
   ]
  },
  {
   "cell_type": "code",
   "execution_count": 12,
   "metadata": {},
   "outputs": [
    {
     "data": {
      "text/plain": [
       "KNeighborsClassifier(algorithm='auto', leaf_size=30, metric='minkowski',\n",
       "           metric_params=None, n_jobs=1, n_neighbors=20, p=2,\n",
       "           weights='uniform')"
      ]
     },
     "execution_count": 12,
     "metadata": {},
     "output_type": "execute_result"
    }
   ],
   "source": [
    "knn_clf = KNeighborsClassifier(20)\n",
    "knn_clf.fit(X_train, y_train)"
   ]
  },
  {
   "cell_type": "code",
   "execution_count": 13,
   "metadata": {},
   "outputs": [
    {
     "data": {
      "text/plain": [
       "VotingClassifier(estimators=[('lr', LogisticRegression(C=1.0, class_weight=None, dual=False, fit_intercept=True,\n",
       "          intercept_scaling=1, max_iter=100, multi_class='ovr', n_jobs=1,\n",
       "          penalty='l2', random_state=None, solver='liblinear', tol=0.0001,\n",
       "          verbose=0, warm_start=False)), ('knn', KNeighborsClassifier(algorithm='auto', leaf_size=30, metric='minkowski',\n",
       "           metric_params=None, n_jobs=1, n_neighbors=20, p=2,\n",
       "           weights='uniform'))],\n",
       "         flatten_transform=None, n_jobs=1, voting='hard', weights=None)"
      ]
     },
     "execution_count": 13,
     "metadata": {},
     "output_type": "execute_result"
    }
   ],
   "source": [
    "voting_clf = VotingClassifier(estimators=[('lr', log_clf), ('knn', knn_clf)], voting='hard')\n",
    "voting_clf.fit(X_train, y_train)"
   ]
  },
  {
   "cell_type": "code",
   "execution_count": 14,
   "metadata": {},
   "outputs": [
    {
     "name": "stdout",
     "output_type": "stream",
     "text": [
      "LogisticRegression 0.950824332006822\n",
      "KNeighborsClassifier 0.9627629334849346\n",
      "VotingClassifier 0.9482660602615123\n"
     ]
    },
    {
     "name": "stderr",
     "output_type": "stream",
     "text": [
      "c:\\users\\deval\\appdata\\local\\programs\\python\\python37-32\\lib\\site-packages\\sklearn\\preprocessing\\label.py:151: DeprecationWarning: The truth value of an empty array is ambiguous. Returning False, but in future this will result in an error. Use `array.size > 0` to check that an array is not empty.\n",
      "  if diff:\n"
     ]
    }
   ],
   "source": [
    "from sklearn.metrics import accuracy_score\n",
    "for clf in (log_clf, knn_clf, voting_clf):\n",
    "    clf.fit(X_train, y_train)\n",
    "    y_pred = clf.predict(X_test)\n",
    "    print(clf.__class__.__name__, accuracy_score(y_test, y_pred))"
   ]
  },
  {
   "cell_type": "code",
   "execution_count": 15,
   "metadata": {},
   "outputs": [
    {
     "data": {
      "text/plain": [
       "VotingClassifier(estimators=[('lr', LogisticRegression(C=1.0, class_weight=None, dual=False, fit_intercept=True,\n",
       "          intercept_scaling=1, max_iter=100, multi_class='ovr', n_jobs=1,\n",
       "          penalty='l2', random_state=None, solver='liblinear', tol=0.0001,\n",
       "          verbose=0, warm_start=False)), ('knn', KNeighborsClassifier(algorithm='auto', leaf_size=30, metric='minkowski',\n",
       "           metric_params=None, n_jobs=1, n_neighbors=20, p=2,\n",
       "           weights='uniform'))],\n",
       "         flatten_transform=None, n_jobs=1, voting='soft', weights=None)"
      ]
     },
     "execution_count": 15,
     "metadata": {},
     "output_type": "execute_result"
    }
   ],
   "source": [
    "voting_clf_s = VotingClassifier(estimators=[('lr', log_clf), ('knn', knn_clf)], voting='soft')\n",
    "voting_clf_s.fit(X_train, y_train)"
   ]
  },
  {
   "cell_type": "code",
   "execution_count": 16,
   "metadata": {},
   "outputs": [
    {
     "name": "stdout",
     "output_type": "stream",
     "text": [
      "LogisticRegression 0.950824332006822\n",
      "KNeighborsClassifier 0.9627629334849346\n",
      "VotingClassifier 0.9590676520750426\n"
     ]
    },
    {
     "name": "stderr",
     "output_type": "stream",
     "text": [
      "c:\\users\\deval\\appdata\\local\\programs\\python\\python37-32\\lib\\site-packages\\sklearn\\preprocessing\\label.py:151: DeprecationWarning: The truth value of an empty array is ambiguous. Returning False, but in future this will result in an error. Use `array.size > 0` to check that an array is not empty.\n",
      "  if diff:\n"
     ]
    }
   ],
   "source": [
    "from sklearn.metrics import accuracy_score\n",
    "for clf in (log_clf, knn_clf, voting_clf_s):\n",
    "    clf.fit(X_train, y_train)\n",
    "    y_pred = clf.predict(X_test)\n",
    "    print(clf.__class__.__name__, accuracy_score(y_test, y_pred))"
   ]
  },
  {
   "cell_type": "markdown",
   "metadata": {},
   "source": [
    "# Bagging"
   ]
  },
  {
   "cell_type": "code",
   "execution_count": 17,
   "metadata": {},
   "outputs": [],
   "source": [
    "from sklearn.ensemble import BaggingClassifier\n",
    "from sklearn.tree import DecisionTreeClassifier\n",
    "\n",
    "dt_clf = DecisionTreeClassifier(random_state=0)\n",
    "bag_clf = BaggingClassifier(dt_clf, n_estimators=500, max_samples=100, bootstrap=True, n_jobs=-1, random_state=0)\n",
    "\n",
    "bag_clf.fit(X_train, y_train)\n",
    "y_pred = bag_clf.predict(X_test)"
   ]
  },
  {
   "cell_type": "code",
   "execution_count": 18,
   "metadata": {},
   "outputs": [
    {
     "name": "stdout",
     "output_type": "stream",
     "text": [
      "0.9670267197271177\n"
     ]
    }
   ],
   "source": [
    "from  sklearn.metrics import accuracy_score\n",
    "print(accuracy_score(y_test, y_pred))"
   ]
  },
  {
   "cell_type": "code",
   "execution_count": 19,
   "metadata": {},
   "outputs": [
    {
     "name": "stdout",
     "output_type": "stream",
     "text": [
      "Train score: 0.96\n",
      "Test score: 0.97\n"
     ]
    }
   ],
   "source": [
    "bag_clf.fit(X_train, y_train)\n",
    "print('Train score: {:.2f}'.format(bag_clf.score(X_train, y_train)))\n",
    "print('Test score: {:.2f}'.format(bag_clf.score(X_test, y_test)))"
   ]
  },
  {
   "cell_type": "code",
   "execution_count": 20,
   "metadata": {},
   "outputs": [],
   "source": [
    "report_table = [['Decision Tree Classifier with Bagging', '-', bag_clf.score(X_train, y_train), bag_clf.score(X_test, y_test)]]"
   ]
  },
  {
   "cell_type": "code",
   "execution_count": 21,
   "metadata": {},
   "outputs": [],
   "source": [
    "from sklearn.ensemble import RandomForestClassifier\n",
    "\n",
    "rnd_clf = RandomForestClassifier(n_estimators=500, max_leaf_nodes=16, n_jobs=-1, random_state=0)\n",
    "rnd_clf.fit(X_train, y_train)\n",
    "\n",
    "y_pred_rf = rnd_clf.predict(X_test)"
   ]
  },
  {
   "cell_type": "code",
   "execution_count": 22,
   "metadata": {},
   "outputs": [
    {
     "name": "stdout",
     "output_type": "stream",
     "text": [
      "Train score: 0.97\n",
      "Test score: 0.97\n"
     ]
    }
   ],
   "source": [
    "print('Train score: {:.2f}'.format(rnd_clf.score(X_train, y_train)))\n",
    "print('Test score: {:.2f}'.format(rnd_clf.score(X_test, y_test)))"
   ]
  },
  {
   "cell_type": "code",
   "execution_count": 23,
   "metadata": {},
   "outputs": [],
   "source": [
    "report_table = report_table + [['Random Forest Classifier with Bagging', 'max leaf nodes=16', rnd_clf.score(X_train, y_train), rnd_clf.score(X_test, y_test)]]"
   ]
  },
  {
   "cell_type": "markdown",
   "metadata": {},
   "source": [
    "# Pasting"
   ]
  },
  {
   "cell_type": "code",
   "execution_count": 24,
   "metadata": {},
   "outputs": [],
   "source": [
    "from sklearn.ensemble import BaggingClassifier\n",
    "from sklearn.tree import DecisionTreeClassifier\n",
    "\n",
    "dt_clf1 = DecisionTreeClassifier(random_state=0)\n",
    "paste_clf = BaggingClassifier(dt_clf1, n_estimators=500, max_samples=100, bootstrap=False, n_jobs=-1, random_state=0)\n",
    "\n",
    "paste_clf.fit(X_train, y_train)\n",
    "y_pred = paste_clf.predict(X_test)"
   ]
  },
  {
   "cell_type": "code",
   "execution_count": 25,
   "metadata": {},
   "outputs": [
    {
     "name": "stdout",
     "output_type": "stream",
     "text": [
      "Train score: 0.96\n",
      "Test score: 0.97\n"
     ]
    }
   ],
   "source": [
    "print('Train score: {:.2f}'.format(paste_clf.score(X_train, y_train)))\n",
    "print('Test score: {:.2f}'.format(paste_clf.score(X_test, y_test)))"
   ]
  },
  {
   "cell_type": "code",
   "execution_count": 26,
   "metadata": {},
   "outputs": [],
   "source": [
    "report_table = report_table + [['Decision Tree with Pasting', '-', paste_clf.score(X_train, y_train), paste_clf.score(X_test, y_test)]]"
   ]
  },
  {
   "cell_type": "code",
   "execution_count": 27,
   "metadata": {},
   "outputs": [
    {
     "data": {
      "text/plain": [
       "BaggingClassifier(base_estimator=KNeighborsClassifier(algorithm='auto', leaf_size=30, metric='minkowski',\n",
       "           metric_params=None, n_jobs=1, n_neighbors=5, p=2,\n",
       "           weights='uniform'),\n",
       "         bootstrap=False, bootstrap_features=False, max_features=1.0,\n",
       "         max_samples=100, n_estimators=500, n_jobs=-1, oob_score=False,\n",
       "         random_state=0, verbose=0, warm_start=False)"
      ]
     },
     "execution_count": 27,
     "metadata": {},
     "output_type": "execute_result"
    }
   ],
   "source": [
    "knn_clf = KNeighborsClassifier(5)\n",
    "\n",
    "pasting_knn = BaggingClassifier(knn_clf, n_estimators = 500, max_samples = 100, bootstrap = False, n_jobs = -1, random_state=0)\n",
    "pasting_knn.fit(X_train,y_train)"
   ]
  },
  {
   "cell_type": "code",
   "execution_count": 29,
   "metadata": {},
   "outputs": [
    {
     "name": "stdout",
     "output_type": "stream",
     "text": [
      "Train score: 0.95\n",
      "Test score: 0.96\n"
     ]
    }
   ],
   "source": [
    "print('Train score: {:.2f}'.format(pasting_knn.score(X_train, y_train)))\n",
    "print('Test score: {:.2f}'.format(pasting_knn.score(X_test, y_test)))"
   ]
  },
  {
   "cell_type": "code",
   "execution_count": 30,
   "metadata": {},
   "outputs": [],
   "source": [
    "report_table = report_table + [['KNN Classifier with Pasting', 'K=5', pasting_knn.score(X_train, y_train), pasting_knn.score(X_test, y_test)]]"
   ]
  },
  {
   "cell_type": "markdown",
   "metadata": {},
   "source": [
    "# Adaboost"
   ]
  },
  {
   "cell_type": "code",
   "execution_count": 31,
   "metadata": {},
   "outputs": [],
   "source": [
    "from sklearn.ensemble import AdaBoostClassifier"
   ]
  },
  {
   "cell_type": "code",
   "execution_count": 32,
   "metadata": {},
   "outputs": [],
   "source": [
    "from sklearn.model_selection import train_test_split\n",
    "_, sample_data_10, _, sample_target_10 = train_test_split(X, y, shuffle = True, test_size = 0.01)"
   ]
  },
  {
   "cell_type": "code",
   "execution_count": 33,
   "metadata": {},
   "outputs": [],
   "source": [
    "X_train_10_org, X_test_10_org, y_train_10, y_test_10 = train_test_split(sample_data_10, sample_target_10, random_state = 0)\n",
    "\n",
    "scaler = MinMaxScaler()\n",
    "X_train_10 = scaler.fit_transform(X_train_10_org)\n",
    "X_test_10 = scaler.transform(X_test_10_org)"
   ]
  },
  {
   "cell_type": "code",
   "execution_count": 34,
   "metadata": {},
   "outputs": [
    {
     "data": {
      "text/plain": [
       "AdaBoostClassifier(algorithm='SAMME.R',\n",
       "          base_estimator=DecisionTreeClassifier(class_weight=None, criterion='gini', max_depth=1,\n",
       "            max_features=None, max_leaf_nodes=None,\n",
       "            min_impurity_decrease=0.0, min_impurity_split=None,\n",
       "            min_samples_leaf=1, min_samples_split=2,\n",
       "            min_weight_fraction_leaf=0.0, presort=False, random_state=None,\n",
       "            splitter='best'),\n",
       "          learning_rate=0.5, n_estimators=200, random_state=0)"
      ]
     },
     "execution_count": 34,
     "metadata": {},
     "output_type": "execute_result"
    }
   ],
   "source": [
    "ada_clf = AdaBoostClassifier(DecisionTreeClassifier(max_depth=1), n_estimators=200, algorithm=\"SAMME.R\", learning_rate=0.5, random_state=0)\n",
    "ada_clf.fit(X_train_10, y_train_10)"
   ]
  },
  {
   "cell_type": "code",
   "execution_count": 35,
   "metadata": {},
   "outputs": [
    {
     "name": "stdout",
     "output_type": "stream",
     "text": [
      "Train score: 1.00\n",
      "Test score: 0.96\n"
     ]
    }
   ],
   "source": [
    "print('Train score: {:.2f}'.format(ada_clf.score(X_train_10, y_train_10)))\n",
    "print('Test score: {:.2f}'.format(ada_clf.score(X_test_10, y_test_10)))"
   ]
  },
  {
   "cell_type": "code",
   "execution_count": 36,
   "metadata": {},
   "outputs": [],
   "source": [
    "report_table = report_table + [['Ada Boost with Decision Tree', 'max depth=1', ada_clf.score(X_train_10, y_train_10), ada_clf.score(X_test_10, y_test_10)]]"
   ]
  },
  {
   "cell_type": "code",
   "execution_count": 37,
   "metadata": {},
   "outputs": [
    {
     "data": {
      "text/plain": [
       "AdaBoostClassifier(algorithm='SAMME.R',\n",
       "          base_estimator=RandomForestClassifier(bootstrap=True, class_weight=None, criterion='gini',\n",
       "            max_depth=None, max_features='auto', max_leaf_nodes=16,\n",
       "            min_impurity_decrease=0.0, min_impurity_split=None,\n",
       "            min_samples_leaf=1, min_samples_split=2,\n",
       "            min_weight_fraction_leaf=0.0, n_estimators=10, n_jobs=-1,\n",
       "            oob_score=False, random_state=0, verbose=0, warm_start=False),\n",
       "          learning_rate=0.5, n_estimators=200, random_state=0)"
      ]
     },
     "execution_count": 37,
     "metadata": {},
     "output_type": "execute_result"
    }
   ],
   "source": [
    "ada_clf2 = AdaBoostClassifier(RandomForestClassifier(max_leaf_nodes=16, n_jobs=-1, random_state=0), n_estimators=200, algorithm=\"SAMME.R\", learning_rate=0.5, random_state=0)\n",
    "ada_clf2.fit(X_train_10, y_train_10)"
   ]
  },
  {
   "cell_type": "code",
   "execution_count": 38,
   "metadata": {},
   "outputs": [
    {
     "name": "stdout",
     "output_type": "stream",
     "text": [
      "Train score: 1.00\n",
      "Test score: 0.96\n"
     ]
    }
   ],
   "source": [
    "print('Train score: {:.2f}'.format(ada_clf2.score(X_train_10, y_train_10)))\n",
    "print('Test score: {:.2f}'.format(ada_clf2.score(X_test_10, y_test_10)))"
   ]
  },
  {
   "cell_type": "code",
   "execution_count": 39,
   "metadata": {},
   "outputs": [],
   "source": [
    "report_table = report_table + [['Ada Boost with Random Forest', 'max leaf nodes=16', ada_clf2.score(X_train_10, y_train_10), ada_clf2.score(X_test_10, y_test_10)]]"
   ]
  },
  {
   "cell_type": "markdown",
   "metadata": {},
   "source": [
    "# Gradient Boosting"
   ]
  },
  {
   "cell_type": "code",
   "execution_count": 40,
   "metadata": {},
   "outputs": [
    {
     "name": "stdout",
     "output_type": "stream",
     "text": [
      "Accuracy on training set: 0.979\n",
      "Accuracy on test set: 0.966\n"
     ]
    }
   ],
   "source": [
    "from sklearn.ensemble import GradientBoostingClassifier\n",
    "\n",
    "gbrt = GradientBoostingClassifier(random_state=0)\n",
    "gbrt.fit(X_train, y_train)\n",
    "\n",
    "print(\"Accuracy on training set: {:.3f}\".format(gbrt.score(X_train, y_train)))\n",
    "print(\"Accuracy on test set: {:.3f}\".format(gbrt.score(X_test, y_test)))"
   ]
  },
  {
   "cell_type": "code",
   "execution_count": 41,
   "metadata": {},
   "outputs": [],
   "source": [
    "report_table = report_table + [['Gradient Boosting', '-', gbrt.score(X_train, y_train), gbrt.score(X_test, y_test)]]"
   ]
  },
  {
   "cell_type": "code",
   "execution_count": 42,
   "metadata": {},
   "outputs": [
    {
     "data": {
      "text/plain": [
       "[['Decision Tree Classifier with Bagging',\n",
       "  '-',\n",
       "  0.9629489244764522,\n",
       "  0.9670267197271177],\n",
       " ['Random Forest Classifier with Bagging',\n",
       "  'max leaf nodes=16',\n",
       "  0.9689187908651569,\n",
       "  0.9681637293916998],\n",
       " ['Decision Tree with Pasting', '-', 0.9631384440443476, 0.966173962478681],\n",
       " ['KNN Classifier with Pasting',\n",
       "  'K=5',\n",
       "  0.9495877949398276,\n",
       "  0.9553723706651507],\n",
       " ['Ada Boost with Decision Tree', 'max depth=1', 1.0, 0.9573863636363636],\n",
       " ['Ada Boost with Random Forest',\n",
       "  'max leaf nodes=16',\n",
       "  1.0,\n",
       "  0.9573863636363636],\n",
       " ['Gradient Boosting', '-', 0.9788685681796645, 0.966173962478681]]"
      ]
     },
     "execution_count": 42,
     "metadata": {},
     "output_type": "execute_result"
    }
   ],
   "source": [
    "report_table"
   ]
  },
  {
   "cell_type": "markdown",
   "metadata": {},
   "source": [
    "# Models Using PCA"
   ]
  },
  {
   "cell_type": "code",
   "execution_count": 43,
   "metadata": {},
   "outputs": [],
   "source": [
    "from sklearn.decomposition import PCA"
   ]
  },
  {
   "cell_type": "code",
   "execution_count": 44,
   "metadata": {},
   "outputs": [],
   "source": [
    "pca = PCA()\n",
    "pca.fit(X_train)\n",
    "\n",
    "cumsum = np.cumsum(pca.explained_variance_ratio_)\n",
    "d = np.argmax(cumsum >= 0.98) + 1"
   ]
  },
  {
   "cell_type": "code",
   "execution_count": 45,
   "metadata": {},
   "outputs": [
    {
     "data": {
      "text/plain": [
       "8"
      ]
     },
     "execution_count": 45,
     "metadata": {},
     "output_type": "execute_result"
    }
   ],
   "source": [
    "d"
   ]
  },
  {
   "cell_type": "code",
   "execution_count": 48,
   "metadata": {},
   "outputs": [
    {
     "data": {
      "image/png": "[encoded data removed]",
      "text/plain": [
       "<Figure size 432x288 with 1 Axes>"
      ]
     },
     "metadata": {},
     "output_type": "display_data"
    }
   ],
   "source": [
    "sns.set_style(\"darkgrid\")\n",
    "plt.plot(cumsum)\n",
    "plt.show()"
   ]
  },
  {
   "cell_type": "code",
   "execution_count": 49,
   "metadata": {},
   "outputs": [],
   "source": [
    "pca = PCA(n_components = 8)\n",
    "X_reduced_train = pca.fit_transform(X_train)\n",
    "X_reduced_test = pca.fit_transform(X_test)"
   ]
  },
  {
   "cell_type": "markdown",
   "metadata": {},
   "source": [
    "### KNN Classifier"
   ]
  },
  {
   "cell_type": "code",
   "execution_count": 51,
   "metadata": {},
   "outputs": [
    {
     "data": {
      "text/plain": [
       "KNeighborsClassifier(algorithm='auto', leaf_size=30, metric='minkowski',\n",
       "           metric_params=None, n_jobs=1, n_neighbors=20, p=2,\n",
       "           weights='uniform')"
      ]
     },
     "execution_count": 51,
     "metadata": {},
     "output_type": "execute_result"
    }
   ],
   "source": [
    "from sklearn.neighbors import KNeighborsClassifier\n",
    "\n",
    "knn = KNeighborsClassifier(20)\n",
    "knn.fit(X_reduced_train,y_train)"
   ]
  },
  {
   "cell_type": "code",
   "execution_count": 52,
   "metadata": {},
   "outputs": [
    {
     "name": "stdout",
     "output_type": "stream",
     "text": [
      "Train score: 0.96\n",
      "Test score: 0.96\n"
     ]
    }
   ],
   "source": [
    "print('Train score: {:.2f}'.format(knn.score(X_reduced_train, y_train)))\n",
    "print('Test score: {:.2f}'.format(knn.score(X_reduced_test, y_test)))"
   ]
  },
  {
   "cell_type": "code",
   "execution_count": 53,
   "metadata": {},
   "outputs": [
    {
     "name": "stdout",
     "output_type": "stream",
     "text": [
      "Train roc_auc_score: 0.93\n",
      "Test roc_auc_score: 0.94 \n"
     ]
    }
   ],
   "source": [
    "from sklearn.metrics import roc_auc_score\n",
    "y_knn_predict = knn.predict(X_reduced_test)\n",
    "y_knn_train_predict = knn.predict(X_reduced_train)\n",
    "print('Train roc_auc_score: %.2f'%roc_auc_score(y_knn_train_predict, y_train))\n",
    "print('Test roc_auc_score: %.2f '%roc_auc_score(y_knn_predict, y_test))"
   ]
  },
  {
   "cell_type": "code",
   "execution_count": 56,
   "metadata": {},
   "outputs": [
    {
     "data": {
      "image/png": "[encoded data removed]",
      "text/plain": [
       "<Figure size 432x288 with 1 Axes>"
      ]
     },
     "metadata": {},
     "output_type": "display_data"
    }
   ],
   "source": [
    "from sklearn.metrics import precision_recall_curve\n",
    "%matplotlib inline\n",
    "\n",
    "precision, recall, thresholds = precision_recall_curve(y_test,knn.predict_proba(X_reduced_test)[:, 1])\n",
    "\n",
    "close_zero = np.argmin(np.abs(thresholds))\n",
    "\n",
    "plt.plot(precision[close_zero], recall[close_zero], 'o', markersize=10,\n",
    "         label=\"threshold zero\", fillstyle=\"none\", c='k', mew=2)\n",
    "\n",
    "plt.plot(precision, recall, label=\"precision recall curve\")\n",
    "plt.xlabel(\"Precision\")\n",
    "plt.ylabel(\"Recall\")\n",
    "plt.legend(loc=\"best\")\n",
    "plt.show()"
   ]
  },
  {
   "cell_type": "code",
   "execution_count": 57,
   "metadata": {},
   "outputs": [],
   "source": [
    "pca_report_table = [['PCA on KNN Classification', 'K=20', knn.score(X_reduced_train, y_train), knn.score(X_reduced_test, y_test)]]"
   ]
  },
  {
   "cell_type": "markdown",
   "metadata": {},
   "source": [
    "### Logistic Regression"
   ]
  },
  {
   "cell_type": "code",
   "execution_count": 58,
   "metadata": {},
   "outputs": [],
   "source": [
    "from sklearn.linear_model import LogisticRegression"
   ]
  },
  {
   "cell_type": "code",
   "execution_count": 59,
   "metadata": {},
   "outputs": [],
   "source": [
    "logis_reg = LogisticRegression(C=10,penalty='l1')"
   ]
  },
  {
   "cell_type": "code",
   "execution_count": 60,
   "metadata": {},
   "outputs": [
    {
     "data": {
      "text/plain": [
       "LogisticRegression(C=10, class_weight=None, dual=False, fit_intercept=True,\n",
       "          intercept_scaling=1, max_iter=100, multi_class='ovr', n_jobs=1,\n",
       "          penalty='l1', random_state=None, solver='liblinear', tol=0.0001,\n",
       "          verbose=0, warm_start=False)"
      ]
     },
     "execution_count": 60,
     "metadata": {},
     "output_type": "execute_result"
    }
   ],
   "source": [
    "logis_reg.fit(X_reduced_train,y_train)"
   ]
  },
  {
   "cell_type": "code",
   "execution_count": 61,
   "metadata": {},
   "outputs": [
    {
     "name": "stdout",
     "output_type": "stream",
     "text": [
      "Train score: 0.96\n",
      "Test score: 0.96\n"
     ]
    }
   ],
   "source": [
    "print('Train score: {:.2f}'.format(logis_reg.score(X_reduced_train, y_train)))\n",
    "print('Test score: {:.2f}'.format(logis_reg.score(X_reduced_test, y_test)))"
   ]
  },
  {
   "cell_type": "code",
   "execution_count": 62,
   "metadata": {},
   "outputs": [
    {
     "name": "stdout",
     "output_type": "stream",
     "text": [
      "Train roc_auc_score: 0.94\n",
      "Test roc_auc_score: 0.95 \n"
     ]
    }
   ],
   "source": [
    "from sklearn.metrics import roc_auc_score\n",
    "y_log_predict = logis_reg.predict(X_reduced_test)\n",
    "y_log_train_predict = logis_reg.predict(X_reduced_train)\n",
    "print('Train roc_auc_score: %.2f'%roc_auc_score(y_log_train_predict, y_train))\n",
    "print('Test roc_auc_score: %.2f '%roc_auc_score(y_log_predict, y_test))"
   ]
  },
  {
   "cell_type": "code",
   "execution_count": 64,
   "metadata": {},
   "outputs": [
    {
     "data": {
      "image/png": "[encoded data removed]",
      "text/plain": [
       "<Figure size 432x288 with 1 Axes>"
      ]
     },
     "metadata": {},
     "output_type": "display_data"
    }
   ],
   "source": [
    "from sklearn.metrics import precision_recall_curve\n",
    "%matplotlib inline\n",
    "precision, recall, thresholds = precision_recall_curve(y_test, logis_reg.decision_function(X_reduced_test))\n",
    "close_zero = np.argmin(np.abs(thresholds))\n",
    "plt.plot(precision[close_zero], recall[close_zero], 'o', markersize=10,\n",
    "         label=\"threshold zero\", fillstyle=\"none\", c='k', mew=2)\n",
    "plt.plot(precision, recall, label=\"precision recall curve\")\n",
    "plt.xlabel(\"Precision\")\n",
    "plt.ylabel(\"Recall\")\n",
    "plt.legend(loc=\"best\")\n",
    "plt.show()"
   ]
  },
  {
   "cell_type": "code",
   "execution_count": 65,
   "metadata": {},
   "outputs": [],
   "source": [
    "pca_report_table = pca_report_table + [['PCA on Logistic Regression', 'C=10,penalty=l1', logis_reg.score(X_reduced_train, y_train), logis_reg.score(X_reduced_test, y_test)]]"
   ]
  },
  {
   "cell_type": "markdown",
   "metadata": {},
   "source": [
    "### Linear SVC"
   ]
  },
  {
   "cell_type": "code",
   "execution_count": 66,
   "metadata": {},
   "outputs": [],
   "source": [
    "from sklearn.svm import LinearSVC\n",
    "\n",
    "svc_lin = LinearSVC(C=10)"
   ]
  },
  {
   "cell_type": "code",
   "execution_count": 67,
   "metadata": {},
   "outputs": [
    {
     "data": {
      "text/plain": [
       "LinearSVC(C=10, class_weight=None, dual=True, fit_intercept=True,\n",
       "     intercept_scaling=1, loss='squared_hinge', max_iter=1000,\n",
       "     multi_class='ovr', penalty='l2', random_state=None, tol=0.0001,\n",
       "     verbose=0)"
      ]
     },
     "execution_count": 67,
     "metadata": {},
     "output_type": "execute_result"
    }
   ],
   "source": [
    "svc_lin.fit(X_reduced_train,y_train)"
   ]
  },
  {
   "cell_type": "code",
   "execution_count": 68,
   "metadata": {},
   "outputs": [
    {
     "name": "stdout",
     "output_type": "stream",
     "text": [
      "Train score: 0.95\n",
      "Test score: 0.96\n"
     ]
    }
   ],
   "source": [
    "print('Train score: {:.2f}'.format(svc_lin.score(X_reduced_train, y_train)))\n",
    "print('Test score: {:.2f}'.format(svc_lin.score(X_reduced_test, y_test)))"
   ]
  },
  {
   "cell_type": "code",
   "execution_count": 71,
   "metadata": {},
   "outputs": [
    {
     "name": "stdout",
     "output_type": "stream",
     "text": [
      "Train roc_auc_score: 0.94\n",
      "Test roc_auc_score: 0.95 \n"
     ]
    }
   ],
   "source": [
    "from sklearn.metrics import roc_auc_score\n",
    "y_linsvc_predict = svc_lin.predict(X_reduced_test)\n",
    "y_linsvc_train_predict = svc_lin.predict(X_reduced_train)\n",
    "print('Train roc_auc_score: %.2f'%roc_auc_score(y_linsvc_train_predict, y_train))\n",
    "print('Test roc_auc_score: %.2f '%roc_auc_score(y_linsvc_predict, y_test))"
   ]
  },
  {
   "cell_type": "code",
   "execution_count": 72,
   "metadata": {},
   "outputs": [
    {
     "data": {
      "image/png": "[encoded data removed]",
      "text/plain": [
       "<Figure size 432x288 with 1 Axes>"
      ]
     },
     "metadata": {},
     "output_type": "display_data"
    }
   ],
   "source": [
    "from sklearn.metrics import precision_recall_curve\n",
    "%matplotlib inline\n",
    "precision, recall, thresholds = precision_recall_curve(y_test, svc_lin.decision_function(X_reduced_test))\n",
    "close_zero = np.argmin(np.abs(thresholds))\n",
    "plt.plot(precision[close_zero], recall[close_zero], 'o', markersize=10,\n",
    "         label=\"threshold zero\", fillstyle=\"none\", c='k', mew=2)\n",
    "plt.plot(precision, recall, label=\"precision recall curve\")\n",
    "plt.xlabel(\"Precision\")\n",
    "plt.ylabel(\"Recall\")\n",
    "plt.legend(loc=\"best\")\n",
    "plt.show()"
   ]
  },
  {
   "cell_type": "code",
   "execution_count": 73,
   "metadata": {},
   "outputs": [],
   "source": [
    "pca_report_table = pca_report_table + [['PCA on SVC', 'C=10', svc_lin.score(X_reduced_train, y_train), svc_lin.score(X_reduced_test, y_test)]]"
   ]
  },
  {
   "cell_type": "markdown",
   "metadata": {},
   "source": [
    "### Decision Tree"
   ]
  },
  {
   "cell_type": "code",
   "execution_count": 74,
   "metadata": {},
   "outputs": [],
   "source": [
    "from sklearn.tree import DecisionTreeClassifier"
   ]
  },
  {
   "cell_type": "code",
   "execution_count": 75,
   "metadata": {},
   "outputs": [],
   "source": [
    "dtree = DecisionTreeClassifier(max_depth=4)"
   ]
  },
  {
   "cell_type": "code",
   "execution_count": 76,
   "metadata": {},
   "outputs": [
    {
     "data": {
      "text/plain": [
       "DecisionTreeClassifier(class_weight=None, criterion='gini', max_depth=4,\n",
       "            max_features=None, max_leaf_nodes=None,\n",
       "            min_impurity_decrease=0.0, min_impurity_split=None,\n",
       "            min_samples_leaf=1, min_samples_split=2,\n",
       "            min_weight_fraction_leaf=0.0, presort=False, random_state=None,\n",
       "            splitter='best')"
      ]
     },
     "execution_count": 76,
     "metadata": {},
     "output_type": "execute_result"
    }
   ],
   "source": [
    "dtree.fit(X_reduced_train,y_train)"
   ]
  },
  {
   "cell_type": "code",
   "execution_count": 80,
   "metadata": {},
   "outputs": [
    {
     "name": "stdout",
     "output_type": "stream",
     "text": [
      "Train score: 0.95\n",
      "Test score: 0.94\n"
     ]
    }
   ],
   "source": [
    "print('Train score: {:.2f}'.format(dtree.score(X_reduced_train, y_train)))\n",
    "print('Test score: {:.2f}'.format(dtree.score(X_reduced_test, y_test)))"
   ]
  },
  {
   "cell_type": "code",
   "execution_count": 81,
   "metadata": {},
   "outputs": [],
   "source": [
    "pca_report_table = pca_report_table + [['PCA on Decision Tree', 'max_depth=4', dtree.score(X_reduced_train, y_train), dtree.score(X_reduced_test, y_test)]]"
   ]
  },
  {
   "cell_type": "markdown",
   "metadata": {},
   "source": [
    "### Kernelized SVM"
   ]
  },
  {
   "cell_type": "code",
   "execution_count": 84,
   "metadata": {},
   "outputs": [
    {
     "data": {
      "text/plain": [
       "SVC(C=10, cache_size=200, class_weight=None, coef0=0.0,\n",
       "  decision_function_shape='ovr', degree=3, gamma='auto', kernel='linear',\n",
       "  max_iter=-1, probability=False, random_state=None, shrinking=True,\n",
       "  tol=0.001, verbose=False)"
      ]
     },
     "execution_count": 84,
     "metadata": {},
     "output_type": "execute_result"
    }
   ],
   "source": [
    "from sklearn.svm import SVC, LinearSVC\n",
    "\n",
    "svc_linear = SVC(kernel = 'linear',C=10)\n",
    "svc_linear.fit(X_reduced_train,y_train)"
   ]
  },
  {
   "cell_type": "code",
   "execution_count": 85,
   "metadata": {},
   "outputs": [
    {
     "name": "stdout",
     "output_type": "stream",
     "text": [
      "Train score: 0.95\n",
      "Test score: 0.96\n"
     ]
    }
   ],
   "source": [
    "print('Train score: {:.2f}'.format(svc_linear.score(X_reduced_train, y_train)))\n",
    "print('Test score: {:.2f}'.format(svc_linear.score(X_reduced_test, y_test)))"
   ]
  },
  {
   "cell_type": "code",
   "execution_count": 86,
   "metadata": {},
   "outputs": [],
   "source": [
    "pca_report_table = pca_report_table + [['PCA on Kernelized SVM', 'C=10', svc_linear.score(X_reduced_train, y_train), svc_linear.score(X_reduced_test, y_test)]]"
   ]
  },
  {
   "cell_type": "markdown",
   "metadata": {},
   "source": [
    "### SVM RBF"
   ]
  },
  {
   "cell_type": "code",
   "execution_count": 87,
   "metadata": {},
   "outputs": [
    {
     "data": {
      "text/plain": [
       "SVC(C=10, cache_size=200, class_weight=None, coef0=0.0,\n",
       "  decision_function_shape='ovr', degree=3, gamma=0.01, kernel='rbf',\n",
       "  max_iter=-1, probability=False, random_state=None, shrinking=True,\n",
       "  tol=0.001, verbose=False)"
      ]
     },
     "execution_count": 87,
     "metadata": {},
     "output_type": "execute_result"
    }
   ],
   "source": [
    "svc_rbf = SVC(kernel = 'rbf',C=10,gamma=0.01)\n",
    "svc_rbf.fit(X_reduced_train, y_train)"
   ]
  },
  {
   "cell_type": "code",
   "execution_count": 88,
   "metadata": {},
   "outputs": [
    {
     "name": "stdout",
     "output_type": "stream",
     "text": [
      "Train score: 0.94\n",
      "Test score: 0.94\n"
     ]
    }
   ],
   "source": [
    "print('Train score: {:.2f}'.format(svc_rbf.score(X_reduced_train, y_train)))\n",
    "print('Test score: {:.2f}'.format(svc_rbf.score(X_reduced_test, y_test)))"
   ]
  },
  {
   "cell_type": "code",
   "execution_count": 89,
   "metadata": {},
   "outputs": [
    {
     "name": "stdout",
     "output_type": "stream",
     "text": [
      "Train roc_auc_score: 0.95\n",
      "Test roc_auc_score: 0.95 \n"
     ]
    }
   ],
   "source": [
    "from sklearn.metrics import roc_auc_score\n",
    "y_radsvc_predict = svc_rbf.predict(X_reduced_test)\n",
    "y_radsvc_train_predict = svc_rbf.predict(X_reduced_train)\n",
    "print('Train roc_auc_score: %.2f'%roc_auc_score(y_radsvc_train_predict, y_train))\n",
    "print('Test roc_auc_score: %.2f '%roc_auc_score(y_radsvc_predict, y_test))"
   ]
  },
  {
   "cell_type": "code",
   "execution_count": 90,
   "metadata": {},
   "outputs": [
    {
     "data": {
      "image/png": "[encoded data removed]",
      "text/plain": [
       "<Figure size 432x288 with 1 Axes>"
      ]
     },
     "metadata": {},
     "output_type": "display_data"
    }
   ],
   "source": [
    "from sklearn.metrics import precision_recall_curve\n",
    "%matplotlib inline\n",
    "precision, recall, thresholds = precision_recall_curve(y_test, svc_rbf.decision_function(X_reduced_test))\n",
    "close_zero = np.argmin(np.abs(thresholds))\n",
    "plt.plot(precision[close_zero], recall[close_zero], 'o', markersize=10,\n",
    "         label=\"threshold zero\", fillstyle=\"none\", c='k', mew=2)\n",
    "plt.plot(precision, recall, label=\"precision recall curve\")\n",
    "plt.xlabel(\"Precision\")\n",
    "plt.ylabel(\"Recall\")\n",
    "plt.legend(loc=\"best\")\n",
    "plt.show()"
   ]
  },
  {
   "cell_type": "code",
   "execution_count": 91,
   "metadata": {},
   "outputs": [],
   "source": [
    "pca_report_table = pca_report_table + [['PCA on SVM RBF', 'C=10,gamma=0.01', svc_rbf.score(X_reduced_train, y_train), svc_rbf.score(X_reduced_test, y_test)]]"
   ]
  },
  {
   "cell_type": "markdown",
   "metadata": {},
   "source": [
    "### SVC Poly"
   ]
  },
  {
   "cell_type": "code",
   "execution_count": 92,
   "metadata": {},
   "outputs": [
    {
     "data": {
      "text/plain": [
       "SVC(C=10, cache_size=200, class_weight=None, coef0=0.0,\n",
       "  decision_function_shape='ovr', degree=3, gamma='auto', kernel='rbf',\n",
       "  max_iter=-1, probability=False, random_state=None, shrinking=True,\n",
       "  tol=0.001, verbose=False)"
      ]
     },
     "execution_count": 92,
     "metadata": {},
     "output_type": "execute_result"
    }
   ],
   "source": [
    "svc_poly = SVC(degree = 3, C=10)\n",
    "svc_poly.fit(X_reduced_train,y_train)"
   ]
  },
  {
   "cell_type": "code",
   "execution_count": 93,
   "metadata": {},
   "outputs": [
    {
     "name": "stdout",
     "output_type": "stream",
     "text": [
      "Train score: 0.95\n",
      "Test score: 0.96\n"
     ]
    }
   ],
   "source": [
    "print('Train score: {:.2f}'.format(svc_poly.score(X_reduced_train, y_train)))\n",
    "print('Test score: {:.2f}'.format(svc_poly.score(X_reduced_test, y_test)))"
   ]
  },
  {
   "cell_type": "code",
   "execution_count": 94,
   "metadata": {},
   "outputs": [],
   "source": [
    "pca_report_table = pca_report_table + [['PCA on SVC Poly', 'C=10', svc_poly.score(X_reduced_train, y_train), svc_poly.score(X_reduced_test, y_test)]]"
   ]
  },
  {
   "cell_type": "code",
   "execution_count": 95,
   "metadata": {},
   "outputs": [
    {
     "data": {
      "text/plain": [
       "[['PCA on KNN Classification', 'K=20', 0.9552733819766891, 0.9565093803297328],\n",
       " ['PCA on Logistic Regression',\n",
       "  'C=10,penalty=l1',\n",
       "  0.9550838624087937,\n",
       "  0.958214894826606],\n",
       " ['PCA on SVC', 'C=10', 0.9541362645693168, 0.9579306424104604],\n",
       " ['PCA on Decision Tree',\n",
       "  'max_depth=4',\n",
       "  0.9450393253103383,\n",
       "  0.9388857305287095],\n",
       " ['PCA on Kernelized SVM', 'C=10', 0.954989102624846, 0.9590676520750426],\n",
       " ['PCA on SVM RBF', 'C=10,gamma=0.01', 0.9391642187055813, 0.9397384877771461],\n",
       " ['PCA on SVC Poly', 'C=10', 0.9538519852174737, 0.958214894826606]]"
      ]
     },
     "execution_count": 95,
     "metadata": {},
     "output_type": "execute_result"
    }
   ],
   "source": [
    "pca_report_table"
   ]
  },
  {
   "cell_type": "code",
   "execution_count": 96,
   "metadata": {},
   "outputs": [
    {
     "data": {
      "text/html": [
       "<div>\n",
       "<style scoped>\n",
       "    .dataframe tbody tr th:only-of-type {\n",
       "        vertical-align: middle;\n",
       "    }\n",
       "\n",
       "    .dataframe tbody tr th {\n",
       "        vertical-align: top;\n",
       "    }\n",
       "\n",
       "    .dataframe thead th {\n",
       "        text-align: right;\n",
       "    }\n",
       "</style>\n",
       "<table border=\"1\" class=\"dataframe\">\n",
       "  <thead>\n",
       "    <tr style=\"text-align: right;\">\n",
       "      <th></th>\n",
       "      <th>Model name</th>\n",
       "      <th>Model parameter</th>\n",
       "      <th>Train accuracy</th>\n",
       "      <th>Test accuracy</th>\n",
       "    </tr>\n",
       "    <tr>\n",
       "      <th>Model name</th>\n",
       "      <th></th>\n",
       "      <th></th>\n",
       "      <th></th>\n",
       "      <th></th>\n",
       "    </tr>\n",
       "  </thead>\n",
       "  <tbody>\n",
       "    <tr>\n",
       "      <th>PCA on KNN Classification</th>\n",
       "      <td>PCA on KNN Classification</td>\n",
       "      <td>K=20</td>\n",
       "      <td>0.955273</td>\n",
       "      <td>0.956509</td>\n",
       "    </tr>\n",
       "    <tr>\n",
       "      <th>PCA on Logistic Regression</th>\n",
       "      <td>PCA on Logistic Regression</td>\n",
       "      <td>C=10,penalty=l1</td>\n",
       "      <td>0.955084</td>\n",
       "      <td>0.958215</td>\n",
       "    </tr>\n",
       "    <tr>\n",
       "      <th>PCA on SVC</th>\n",
       "      <td>PCA on SVC</td>\n",
       "      <td>C=10</td>\n",
       "      <td>0.954136</td>\n",
       "      <td>0.957931</td>\n",
       "    </tr>\n",
       "    <tr>\n",
       "      <th>PCA on Decision Tree</th>\n",
       "      <td>PCA on Decision Tree</td>\n",
       "      <td>max_depth=4</td>\n",
       "      <td>0.945039</td>\n",
       "      <td>0.938886</td>\n",
       "    </tr>\n",
       "    <tr>\n",
       "      <th>PCA on Kernelized SVM</th>\n",
       "      <td>PCA on Kernelized SVM</td>\n",
       "      <td>C=10</td>\n",
       "      <td>0.954989</td>\n",
       "      <td>0.959068</td>\n",
       "    </tr>\n",
       "    <tr>\n",
       "      <th>PCA on SVM RBF</th>\n",
       "      <td>PCA on SVM RBF</td>\n",
       "      <td>C=10,gamma=0.01</td>\n",
       "      <td>0.939164</td>\n",
       "      <td>0.939738</td>\n",
       "    </tr>\n",
       "    <tr>\n",
       "      <th>PCA on SVC Poly</th>\n",
       "      <td>PCA on SVC Poly</td>\n",
       "      <td>C=10</td>\n",
       "      <td>0.953852</td>\n",
       "      <td>0.958215</td>\n",
       "    </tr>\n",
       "  </tbody>\n",
       "</table>\n",
       "</div>"
      ],
      "text/plain": [
       "                                            Model name  Model parameter  \\\n",
       "Model name                                                                \n",
       "PCA on KNN Classification    PCA on KNN Classification             K=20   \n",
       "PCA on Logistic Regression  PCA on Logistic Regression  C=10,penalty=l1   \n",
       "PCA on SVC                                  PCA on SVC             C=10   \n",
       "PCA on Decision Tree              PCA on Decision Tree      max_depth=4   \n",
       "PCA on Kernelized SVM            PCA on Kernelized SVM             C=10   \n",
       "PCA on SVM RBF                          PCA on SVM RBF  C=10,gamma=0.01   \n",
       "PCA on SVC Poly                        PCA on SVC Poly             C=10   \n",
       "\n",
       "                            Train accuracy  Test accuracy  \n",
       "Model name                                                 \n",
       "PCA on KNN Classification         0.955273       0.956509  \n",
       "PCA on Logistic Regression        0.955084       0.958215  \n",
       "PCA on SVC                        0.954136       0.957931  \n",
       "PCA on Decision Tree              0.945039       0.938886  \n",
       "PCA on Kernelized SVM             0.954989       0.959068  \n",
       "PCA on SVM RBF                    0.939164       0.939738  \n",
       "PCA on SVC Poly                   0.953852       0.958215  "
      ]
     },
     "execution_count": 96,
     "metadata": {},
     "output_type": "execute_result"
    }
   ],
   "source": [
    "pca_report = pd.DataFrame(pca_report_table,columns = ['Model name', 'Model parameter', 'Train accuracy', 'Test accuracy'])\n",
    "pca_report.index = pca_report['Model name']\n",
    "pca_report"
   ]
  },
  {
   "cell_type": "code",
   "execution_count": 97,
   "metadata": {},
   "outputs": [
    {
     "data": {
      "image/jpeg": "[encoded data removed]",
      "text/plain": [
       "<IPython.core.display.Image object>"
      ]
     },
     "execution_count": 97,
     "metadata": {
      "image/jpeg": {
       "height": 700,
       "width": 700
      }
     },
     "output_type": "execute_result"
    }
   ],
   "source": [
    "from IPython.display import Image\n",
    "Image(filename = 'project2_results.jpg', width = 700, height = 700)"
   ]
  },
  {
   "cell_type": "markdown",
   "metadata": {},
   "source": [
    "Based on above results, it seems that PCA doesn't help in improving the results of the models. A plausible reason can be that by using PCA we are losing information. The components of PCA are not able to explain the required variance which all the original features together can."
   ]
  },
  {
   "cell_type": "markdown",
   "metadata": {},
   "source": [
    "# Neural Network"
   ]
  },
  {
   "cell_type": "code",
   "execution_count": 9,
   "metadata": {},
   "outputs": [],
   "source": [
    "from keras.models import Sequential\n",
    "from keras.layers import Dense"
   ]
  },
  {
   "cell_type": "code",
   "execution_count": 10,
   "metadata": {},
   "outputs": [],
   "source": [
    "# create model\n",
    "model = Sequential()\n",
    "model.add(Dense(12, input_dim=77, activation='relu'))\n",
    "model.add(Dense(8, activation='relu'))\n",
    "model.add(Dense(1, activation='sigmoid'))"
   ]
  },
  {
   "cell_type": "code",
   "execution_count": 11,
   "metadata": {},
   "outputs": [],
   "source": [
    "# Compile model\n",
    "model.compile(loss='binary_crossentropy', optimizer='adam', metrics=['accuracy'])"
   ]
  },
  {
   "cell_type": "code",
   "execution_count": 12,
   "metadata": {},
   "outputs": [
    {
     "name": "stdout",
     "output_type": "stream",
     "text": [
      "Epoch 1/150\n",
      "10553/10553 [==============================] - 2s 169us/step - loss: 0.2286 - acc: 0.9135\n",
      "Epoch 2/150\n",
      "10553/10553 [==============================] - 1s 116us/step - loss: 0.1033 - acc: 0.9620\n",
      "Epoch 3/150\n",
      "10553/10553 [==============================] - 1s 107us/step - loss: 0.0975 - acc: 0.9632\n",
      "Epoch 4/150\n",
      "10553/10553 [==============================] - 1s 118us/step - loss: 0.0947 - acc: 0.9628\n",
      "Epoch 5/150\n",
      "10553/10553 [==============================] - 1s 122us/step - loss: 0.0931 - acc: 0.9629\n",
      "Epoch 6/150\n",
      "10553/10553 [==============================] - 1s 117us/step - loss: 0.0911 - acc: 0.9645\n",
      "Epoch 7/150\n",
      "10553/10553 [==============================] - 1s 114us/step - loss: 0.0898 - acc: 0.9652\n",
      "Epoch 8/150\n",
      "10553/10553 [==============================] - 1s 118us/step - loss: 0.0891 - acc: 0.9632\n",
      "Epoch 9/150\n",
      "10553/10553 [==============================] - 1s 121us/step - loss: 0.0888 - acc: 0.9664\n",
      "Epoch 10/150\n",
      "10553/10553 [==============================] - 1s 112us/step - loss: 0.0862 - acc: 0.9660\n",
      "Epoch 11/150\n",
      "10553/10553 [==============================] - 1s 108us/step - loss: 0.0877 - acc: 0.9652\n",
      "Epoch 12/150\n",
      "10553/10553 [==============================] - 1s 117us/step - loss: 0.0851 - acc: 0.9657\n",
      "Epoch 13/150\n",
      "10553/10553 [==============================] - 1s 130us/step - loss: 0.0855 - acc: 0.9655\n",
      "Epoch 14/150\n",
      "10553/10553 [==============================] - 1s 110us/step - loss: 0.0862 - acc: 0.9659\n",
      "Epoch 15/150\n",
      "10553/10553 [==============================] - 1s 111us/step - loss: 0.0848 - acc: 0.9671\n",
      "Epoch 16/150\n",
      "10553/10553 [==============================] - 1s 119us/step - loss: 0.0846 - acc: 0.9666\n",
      "Epoch 17/150\n",
      "10553/10553 [==============================] - 1s 117us/step - loss: 0.0849 - acc: 0.9666\n",
      "Epoch 18/150\n",
      "10553/10553 [==============================] - 1s 127us/step - loss: 0.0842 - acc: 0.9667\n",
      "Epoch 19/150\n",
      "10553/10553 [==============================] - 1s 114us/step - loss: 0.0841 - acc: 0.9673\n",
      "Epoch 20/150\n",
      "10553/10553 [==============================] - 1s 108us/step - loss: 0.0842 - acc: 0.9668\n",
      "Epoch 21/150\n",
      "10553/10553 [==============================] - 1s 111us/step - loss: 0.0832 - acc: 0.9668\n",
      "Epoch 22/150\n",
      "10553/10553 [==============================] - 1s 106us/step - loss: 0.0843 - acc: 0.9667\n",
      "Epoch 23/150\n",
      "10553/10553 [==============================] - 1s 110us/step - loss: 0.0841 - acc: 0.9659\n",
      "Epoch 24/150\n",
      "10553/10553 [==============================] - 1s 106us/step - loss: 0.0839 - acc: 0.9663\n",
      "Epoch 25/150\n",
      "10553/10553 [==============================] - 1s 126us/step - loss: 0.0834 - acc: 0.9673\n",
      "Epoch 26/150\n",
      "10553/10553 [==============================] - 1s 131us/step - loss: 0.0837 - acc: 0.9661\n",
      "Epoch 27/150\n",
      "10553/10553 [==============================] - 1s 129us/step - loss: 0.0835 - acc: 0.9676\n",
      "Epoch 28/150\n",
      "10553/10553 [==============================] - 1s 119us/step - loss: 0.0831 - acc: 0.9671\n",
      "Epoch 29/150\n",
      "10553/10553 [==============================] - 1s 118us/step - loss: 0.0834 - acc: 0.9661\n",
      "Epoch 30/150\n",
      "10553/10553 [==============================] - 1s 112us/step - loss: 0.0825 - acc: 0.9677\n",
      "Epoch 31/150\n",
      "10553/10553 [==============================] - 1s 113us/step - loss: 0.0827 - acc: 0.9666\n",
      "Epoch 32/150\n",
      "10553/10553 [==============================] - 1s 119us/step - loss: 0.0832 - acc: 0.9678\n",
      "Epoch 33/150\n",
      "10553/10553 [==============================] - 1s 117us/step - loss: 0.0830 - acc: 0.9661\n",
      "Epoch 34/150\n",
      "10553/10553 [==============================] - 1s 113us/step - loss: 0.0821 - acc: 0.9682\n",
      "Epoch 35/150\n",
      "10553/10553 [==============================] - 1s 115us/step - loss: 0.0824 - acc: 0.9670\n",
      "Epoch 36/150\n",
      "10553/10553 [==============================] - 1s 114us/step - loss: 0.0826 - acc: 0.9667\n",
      "Epoch 37/150\n",
      "10553/10553 [==============================] - 1s 117us/step - loss: 0.0820 - acc: 0.9680\n",
      "Epoch 38/150\n",
      "10553/10553 [==============================] - 1s 115us/step - loss: 0.0831 - acc: 0.9670\n",
      "Epoch 39/150\n",
      "10553/10553 [==============================] - 1s 110us/step - loss: 0.0828 - acc: 0.9683\n",
      "Epoch 40/150\n",
      "10553/10553 [==============================] - 1s 113us/step - loss: 0.0819 - acc: 0.9680\n",
      "Epoch 41/150\n",
      "10553/10553 [==============================] - 1s 126us/step - loss: 0.0825 - acc: 0.9667\n",
      "Epoch 42/150\n",
      "10553/10553 [==============================] - 2s 161us/step - loss: 0.0828 - acc: 0.9669\n",
      "Epoch 43/150\n",
      "10553/10553 [==============================] - 1s 126us/step - loss: 0.0822 - acc: 0.9668\n",
      "Epoch 44/150\n",
      "10553/10553 [==============================] - 2s 152us/step - loss: 0.0820 - acc: 0.9674\n",
      "Epoch 45/150\n",
      "10553/10553 [==============================] - 1s 122us/step - loss: 0.0812 - acc: 0.9689\n",
      "Epoch 46/150\n",
      "10553/10553 [==============================] - 1s 122us/step - loss: 0.0820 - acc: 0.9673\n",
      "Epoch 47/150\n",
      "10553/10553 [==============================] - 2s 144us/step - loss: 0.0824 - acc: 0.9673\n",
      "Epoch 48/150\n",
      "10553/10553 [==============================] - 2s 163us/step - loss: 0.0815 - acc: 0.9682\n",
      "Epoch 49/150\n",
      "10553/10553 [==============================] - 1s 135us/step - loss: 0.0818 - acc: 0.9681\n",
      "Epoch 50/150\n",
      "10553/10553 [==============================] - 2s 164us/step - loss: 0.0814 - acc: 0.9678\n",
      "Epoch 51/150\n",
      "10553/10553 [==============================] - 2s 153us/step - loss: 0.0822 - acc: 0.9677\n",
      "Epoch 52/150\n",
      "10553/10553 [==============================] - 1s 105us/step - loss: 0.0818 - acc: 0.9665\n",
      "Epoch 53/150\n",
      "10553/10553 [==============================] - 1s 116us/step - loss: 0.0819 - acc: 0.9684\n",
      "Epoch 54/150\n",
      "10553/10553 [==============================] - 1s 120us/step - loss: 0.0812 - acc: 0.9673\n",
      "Epoch 55/150\n",
      "10553/10553 [==============================] - 1s 113us/step - loss: 0.0821 - acc: 0.9678\n",
      "Epoch 56/150\n",
      "10553/10553 [==============================] - 2s 148us/step - loss: 0.0813 - acc: 0.9671\n",
      "Epoch 57/150\n",
      "10553/10553 [==============================] - 2s 165us/step - loss: 0.0813 - acc: 0.9673\n",
      "Epoch 58/150\n",
      "10553/10553 [==============================] - 2s 153us/step - loss: 0.0810 - acc: 0.9679\n",
      "Epoch 59/150\n",
      "10553/10553 [==============================] - 2s 154us/step - loss: 0.0809 - acc: 0.9688\n",
      "Epoch 60/150\n",
      "10553/10553 [==============================] - 2s 150us/step - loss: 0.0813 - acc: 0.9681\n",
      "Epoch 61/150\n",
      "10553/10553 [==============================] - 2s 167us/step - loss: 0.0815 - acc: 0.9668\n",
      "Epoch 62/150\n",
      "10553/10553 [==============================] - 2s 146us/step - loss: 0.0808 - acc: 0.9674\n",
      "Epoch 63/150\n",
      "10553/10553 [==============================] - 2s 148us/step - loss: 0.0804 - acc: 0.9677\n",
      "Epoch 64/150\n",
      "10553/10553 [==============================] - 2s 146us/step - loss: 0.0808 - acc: 0.9682\n",
      "Epoch 65/150\n",
      "10553/10553 [==============================] - 1s 141us/step - loss: 0.0816 - acc: 0.9680\n",
      "Epoch 66/150\n",
      "10553/10553 [==============================] - 2s 147us/step - loss: 0.0812 - acc: 0.9679\n",
      "Epoch 67/150\n",
      "10553/10553 [==============================] - 2s 149us/step - loss: 0.0810 - acc: 0.9673\n",
      "Epoch 68/150\n",
      "10553/10553 [==============================] - 2s 146us/step - loss: 0.0816 - acc: 0.9671\n",
      "Epoch 69/150\n",
      "10553/10553 [==============================] - 2s 146us/step - loss: 0.0804 - acc: 0.9680\n",
      "Epoch 70/150\n",
      "10553/10553 [==============================] - 2s 146us/step - loss: 0.0800 - acc: 0.9676\n",
      "Epoch 71/150\n",
      "10553/10553 [==============================] - 2s 157us/step - loss: 0.0806 - acc: 0.9675\n",
      "Epoch 72/150\n",
      "10553/10553 [==============================] - 2s 160us/step - loss: 0.0805 - acc: 0.9682\n",
      "Epoch 73/150\n",
      "10553/10553 [==============================] - 2s 154us/step - loss: 0.0811 - acc: 0.9675 0s - loss: 0.0801 - acc:\n",
      "Epoch 74/150\n",
      "10553/10553 [==============================] - 2s 142us/step - loss: 0.0802 - acc: 0.9672\n",
      "Epoch 75/150\n",
      "10553/10553 [==============================] - 1s 127us/step - loss: 0.0809 - acc: 0.9668\n",
      "Epoch 76/150\n",
      "10553/10553 [==============================] - 1s 128us/step - loss: 0.0801 - acc: 0.9684\n",
      "Epoch 77/150\n",
      "10553/10553 [==============================] - 1s 129us/step - loss: 0.0803 - acc: 0.9673 0s - loss: 0.0807 - acc: 0.96\n",
      "Epoch 78/150\n",
      "10553/10553 [==============================] - 1s 138us/step - loss: 0.0801 - acc: 0.9681\n",
      "Epoch 79/150\n",
      "10553/10553 [==============================] - 1s 137us/step - loss: 0.0805 - acc: 0.9678\n",
      "Epoch 80/150\n"
     ]
    },
    {
     "name": "stdout",
     "output_type": "stream",
     "text": [
      "10553/10553 [==============================] - 2s 152us/step - loss: 0.0799 - acc: 0.9686\n",
      "Epoch 81/150\n",
      "10553/10553 [==============================] - 2s 173us/step - loss: 0.0794 - acc: 0.9673\n",
      "Epoch 82/150\n",
      "10553/10553 [==============================] - 2s 158us/step - loss: 0.0794 - acc: 0.9683\n",
      "Epoch 83/150\n",
      "10553/10553 [==============================] - 1s 120us/step - loss: 0.0791 - acc: 0.9684\n",
      "Epoch 84/150\n",
      "10553/10553 [==============================] - 1s 134us/step - loss: 0.0801 - acc: 0.9675\n",
      "Epoch 85/150\n",
      "10553/10553 [==============================] - 2s 148us/step - loss: 0.0801 - acc: 0.9665\n",
      "Epoch 86/150\n",
      "10553/10553 [==============================] - 1s 120us/step - loss: 0.0792 - acc: 0.9684\n",
      "Epoch 87/150\n",
      "10553/10553 [==============================] - 1s 122us/step - loss: 0.0789 - acc: 0.9683\n",
      "Epoch 88/150\n",
      "10553/10553 [==============================] - 1s 125us/step - loss: 0.0789 - acc: 0.9676\n",
      "Epoch 89/150\n",
      "10553/10553 [==============================] - 1s 119us/step - loss: 0.0795 - acc: 0.9670\n",
      "Epoch 90/150\n",
      "10553/10553 [==============================] - 1s 125us/step - loss: 0.0787 - acc: 0.9682\n",
      "Epoch 91/150\n",
      "10553/10553 [==============================] - 2s 170us/step - loss: 0.0784 - acc: 0.9700\n",
      "Epoch 92/150\n",
      "10553/10553 [==============================] - 2s 152us/step - loss: 0.0791 - acc: 0.9678\n",
      "Epoch 93/150\n",
      "10553/10553 [==============================] - 2s 149us/step - loss: 0.0796 - acc: 0.9670\n",
      "Epoch 94/150\n",
      "10553/10553 [==============================] - 2s 223us/step - loss: 0.0785 - acc: 0.9679\n",
      "Epoch 95/150\n",
      "10553/10553 [==============================] - 2s 157us/step - loss: 0.0789 - acc: 0.9686\n",
      "Epoch 96/150\n",
      "10553/10553 [==============================] - 1s 132us/step - loss: 0.0789 - acc: 0.9685\n",
      "Epoch 97/150\n",
      "10553/10553 [==============================] - 2s 173us/step - loss: 0.0788 - acc: 0.9684\n",
      "Epoch 98/150\n",
      "10553/10553 [==============================] - 1s 108us/step - loss: 0.0791 - acc: 0.9679\n",
      "Epoch 99/150\n",
      "10553/10553 [==============================] - 1s 126us/step - loss: 0.0796 - acc: 0.9682\n",
      "Epoch 100/150\n",
      "10553/10553 [==============================] - 1s 117us/step - loss: 0.0781 - acc: 0.9688\n",
      "Epoch 101/150\n",
      "10553/10553 [==============================] - 1s 128us/step - loss: 0.0786 - acc: 0.9685\n",
      "Epoch 102/150\n",
      "10553/10553 [==============================] - 1s 131us/step - loss: 0.0786 - acc: 0.9698\n",
      "Epoch 103/150\n",
      "10553/10553 [==============================] - 1s 133us/step - loss: 0.0790 - acc: 0.9665\n",
      "Epoch 104/150\n",
      "10553/10553 [==============================] - 1s 120us/step - loss: 0.0784 - acc: 0.9677\n",
      "Epoch 105/150\n",
      "10553/10553 [==============================] - 1s 122us/step - loss: 0.0788 - acc: 0.9682\n",
      "Epoch 106/150\n",
      "10553/10553 [==============================] - 1s 128us/step - loss: 0.0791 - acc: 0.9681\n",
      "Epoch 107/150\n",
      "10553/10553 [==============================] - 2s 150us/step - loss: 0.0774 - acc: 0.9686\n",
      "Epoch 108/150\n",
      "10553/10553 [==============================] - 2s 145us/step - loss: 0.0786 - acc: 0.9666\n",
      "Epoch 109/150\n",
      "10553/10553 [==============================] - 2s 156us/step - loss: 0.0778 - acc: 0.9678\n",
      "Epoch 110/150\n",
      "10553/10553 [==============================] - 2s 155us/step - loss: 0.0782 - acc: 0.9688\n",
      "Epoch 111/150\n",
      "10553/10553 [==============================] - 2s 151us/step - loss: 0.0782 - acc: 0.9693\n",
      "Epoch 112/150\n",
      "10553/10553 [==============================] - 2s 144us/step - loss: 0.0785 - acc: 0.9684\n",
      "Epoch 113/150\n",
      "10553/10553 [==============================] - 2s 146us/step - loss: 0.0778 - acc: 0.9680\n",
      "Epoch 114/150\n",
      "10553/10553 [==============================] - 2s 155us/step - loss: 0.0778 - acc: 0.9702\n",
      "Epoch 115/150\n",
      "10553/10553 [==============================] - 2s 156us/step - loss: 0.0781 - acc: 0.9669\n",
      "Epoch 116/150\n",
      "10553/10553 [==============================] - 2s 153us/step - loss: 0.0775 - acc: 0.9673\n",
      "Epoch 117/150\n",
      "10553/10553 [==============================] - 1s 137us/step - loss: 0.0773 - acc: 0.9689\n",
      "Epoch 118/150\n",
      "10553/10553 [==============================] - 1s 136us/step - loss: 0.0773 - acc: 0.9680\n",
      "Epoch 119/150\n",
      "10553/10553 [==============================] - 1s 135us/step - loss: 0.0779 - acc: 0.9670\n",
      "Epoch 120/150\n",
      "10553/10553 [==============================] - 1s 136us/step - loss: 0.0771 - acc: 0.9689\n",
      "Epoch 121/150\n",
      "10553/10553 [==============================] - 2s 175us/step - loss: 0.0775 - acc: 0.9682\n",
      "Epoch 122/150\n",
      "10553/10553 [==============================] - 1s 135us/step - loss: 0.0781 - acc: 0.9676\n",
      "Epoch 123/150\n",
      "10553/10553 [==============================] - 1s 136us/step - loss: 0.0771 - acc: 0.9680\n",
      "Epoch 124/150\n",
      "10553/10553 [==============================] - 1s 138us/step - loss: 0.0771 - acc: 0.9674\n",
      "Epoch 125/150\n",
      "10553/10553 [==============================] - 1s 136us/step - loss: 0.0772 - acc: 0.9693\n",
      "Epoch 126/150\n",
      "10553/10553 [==============================] - 1s 135us/step - loss: 0.0771 - acc: 0.9684\n",
      "Epoch 127/150\n",
      "10553/10553 [==============================] - 1s 135us/step - loss: 0.0773 - acc: 0.9677\n",
      "Epoch 128/150\n",
      "10553/10553 [==============================] - 1s 140us/step - loss: 0.0774 - acc: 0.9689\n",
      "Epoch 129/150\n",
      "10553/10553 [==============================] - 1s 135us/step - loss: 0.0773 - acc: 0.9687\n",
      "Epoch 130/150\n",
      "10553/10553 [==============================] - 2s 147us/step - loss: 0.0773 - acc: 0.9678\n",
      "Epoch 131/150\n",
      "10553/10553 [==============================] - 1s 129us/step - loss: 0.0772 - acc: 0.9693\n",
      "Epoch 132/150\n",
      "10553/10553 [==============================] - 1s 133us/step - loss: 0.0769 - acc: 0.9671\n",
      "Epoch 133/150\n",
      "10553/10553 [==============================] - 1s 140us/step - loss: 0.0777 - acc: 0.9687\n",
      "Epoch 134/150\n",
      "10553/10553 [==============================] - 2s 144us/step - loss: 0.0777 - acc: 0.9681\n",
      "Epoch 135/150\n",
      "10553/10553 [==============================] - 2s 162us/step - loss: 0.0782 - acc: 0.9670\n",
      "Epoch 136/150\n",
      "10553/10553 [==============================] - 2s 153us/step - loss: 0.0763 - acc: 0.9682\n",
      "Epoch 137/150\n",
      "10553/10553 [==============================] - 2s 147us/step - loss: 0.0766 - acc: 0.9688\n",
      "Epoch 138/150\n",
      "10553/10553 [==============================] - 1s 137us/step - loss: 0.0767 - acc: 0.9691\n",
      "Epoch 139/150\n",
      "10553/10553 [==============================] - 1s 117us/step - loss: 0.0772 - acc: 0.9683\n",
      "Epoch 140/150\n",
      "10553/10553 [==============================] - 1s 112us/step - loss: 0.0768 - acc: 0.9677\n",
      "Epoch 141/150\n",
      "10553/10553 [==============================] - 1s 108us/step - loss: 0.0771 - acc: 0.9680\n",
      "Epoch 142/150\n",
      "10553/10553 [==============================] - 1s 110us/step - loss: 0.0770 - acc: 0.9678\n",
      "Epoch 143/150\n",
      "10553/10553 [==============================] - 1s 106us/step - loss: 0.0777 - acc: 0.9681\n",
      "Epoch 144/150\n",
      "10553/10553 [==============================] - 1s 105us/step - loss: 0.0766 - acc: 0.9698\n",
      "Epoch 145/150\n",
      "10553/10553 [==============================] - 1s 120us/step - loss: 0.0764 - acc: 0.9692\n",
      "Epoch 146/150\n",
      "10553/10553 [==============================] - 2s 153us/step - loss: 0.0774 - acc: 0.9687\n",
      "Epoch 147/150\n",
      "10553/10553 [==============================] - 1s 135us/step - loss: 0.0767 - acc: 0.9678\n",
      "Epoch 148/150\n",
      "10553/10553 [==============================] - 2s 150us/step - loss: 0.0763 - acc: 0.9690\n",
      "Epoch 149/150\n",
      "10553/10553 [==============================] - 2s 146us/step - loss: 0.0768 - acc: 0.9683\n",
      "Epoch 150/150\n",
      "10553/10553 [==============================] - 2s 149us/step - loss: 0.0768 - acc: 0.9684\n"
     ]
    },
    {
     "data": {
      "text/plain": [
       "<keras.callbacks.History at 0x242e1008470>"
      ]
     },
     "execution_count": 12,
     "metadata": {},
     "output_type": "execute_result"
    }
   ],
   "source": [
    "# Fit the model\n",
    "model.fit(X_train, y_train, epochs=150, batch_size=10)"
   ]
  },
  {
   "cell_type": "code",
   "execution_count": 13,
   "metadata": {},
   "outputs": [
    {
     "name": "stdout",
     "output_type": "stream",
     "text": [
      "3518/3518 [==============================] - 0s 26us/step\n"
     ]
    },
    {
     "data": {
      "text/plain": [
       "[0.09887792861312543, 0.9621944286526436]"
      ]
     },
     "execution_count": 13,
     "metadata": {},
     "output_type": "execute_result"
    }
   ],
   "source": [
    "model.evaluate(X_test, y_test)"
   ]
  }
 ],
 "metadata": {
  "kernelspec": {
   "display_name": "Python 3",
   "language": "python",
   "name": "python3"
  },
  "language_info": {
   "codemirror_mode": {
    "name": "ipython",
    "version": 3
   },
   "file_extension": ".py",
   "mimetype": "text/x-python",
   "name": "python",
   "nbconvert_exporter": "python",
   "pygments_lexer": "ipython3",
   "version": "3.5.6"
  }
 },
 "nbformat": 4,
 "nbformat_minor": 2
}
