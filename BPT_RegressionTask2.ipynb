{
 "cells": [
  {
   "cell_type": "markdown",
   "metadata": {},
   "source": [
    "### <font color='red'> Buzz Prediction on Twitter (Regression Part II)\n",
    "\n",
    "This is a continuation of the Regression Task and the objectives are as below:\n",
    "- Applied previous two models bagging and two models with pasting.\n",
    "- Applied previous two models with adaboost boosting\n",
    "- Applied one model with gradient bossting\n",
    "- Applied PCA on the data and then applied all the previous models again on top of this. \n",
    "- Compared the results of PCA with the previous models\n",
    "- Applied a deep learning model"
   ]
  },
  {
   "cell_type": "code",
   "execution_count": 1,
   "metadata": {},
   "outputs": [],
   "source": [
    "import numpy as np\n",
    "import pandas as pd\n",
    "import matplotlib.pyplot as plt\n",
    "import warnings\n",
    "warnings.filterwarnings('ignore')\n",
    "%matplotlib inline"
   ]
  },
  {
   "cell_type": "code",
   "execution_count": 2,
   "metadata": {},
   "outputs": [],
   "source": [
    "data = pd.read_csv('Twitter.data', header = None)"
   ]
  },
  {
   "cell_type": "code",
   "execution_count": 3,
   "metadata": {},
   "outputs": [],
   "source": [
    "data.columns = ['NCD_0','NCD_1','NCD_2','NCD_3','NCD_4','NCD_5','NCD_6','AI_0','AI_1','AI_2','AI_3','AI_4','AI_5','AI_6',\n",
    "               'AS(NA)_0','AS(NA)_1','AS(NA)_2','AS(NA)_3','AS(NA)_4','AS(NA)_5','AS(NA)_6','BL_0','BL_1','BL_2','BL_3',\n",
    "                'BL_4','BL_5','BL_6','NAC_0','NAC_1','NAC_2','NAC_3','NAC_4','NAC_5','NAC_6','AS(NAC)_0','AS(NAC)_1',\n",
    "               'AS(NAC)_2','AS(NAC)_3','AS(NAC)_4','AS(NAC)_5','AS(NAC)_6','CS_0','CS_1','CS_2','CS_3','CS_4','CS_5','CS_6',\n",
    "               'AT_0','AT_1','AT_2','AT_3','AT_4','AT_5','AT_6','NA_0','NA_1','NA_2','NA_3','NA_4','NA_5','NA_6','ADL_0',\n",
    "               'ADL_1','ADL_2','ADL_3','ADL_4','ADL_5','ADL_6','NAD_0','NAD_1','NAD_2','NAD_3','NAD_4','NAD_5','NAD_6','Target']"
   ]
  },
  {
   "cell_type": "code",
   "execution_count": 12,
   "metadata": {},
   "outputs": [
    {
     "data": {
      "text/html": [
       "<div>\n",
       "<style scoped>\n",
       "    .dataframe tbody tr th:only-of-type {\n",
       "        vertical-align: middle;\n",
       "    }\n",
       "\n",
       "    .dataframe tbody tr th {\n",
       "        vertical-align: top;\n",
       "    }\n",
       "\n",
       "    .dataframe thead th {\n",
       "        text-align: right;\n",
       "    }\n",
       "</style>\n",
       "<table border=\"1\" class=\"dataframe\">\n",
       "  <thead>\n",
       "    <tr style=\"text-align: right;\">\n",
       "      <th></th>\n",
       "      <th>NCD_0</th>\n",
       "      <th>NCD_1</th>\n",
       "      <th>NCD_2</th>\n",
       "      <th>NCD_3</th>\n",
       "      <th>NCD_4</th>\n",
       "      <th>NCD_5</th>\n",
       "      <th>NCD_6</th>\n",
       "      <th>AI_0</th>\n",
       "      <th>AI_1</th>\n",
       "      <th>AI_2</th>\n",
       "      <th>...</th>\n",
       "      <th>ADL_5</th>\n",
       "      <th>ADL_6</th>\n",
       "      <th>NAD_0</th>\n",
       "      <th>NAD_1</th>\n",
       "      <th>NAD_2</th>\n",
       "      <th>NAD_3</th>\n",
       "      <th>NAD_4</th>\n",
       "      <th>NAD_5</th>\n",
       "      <th>NAD_6</th>\n",
       "      <th>Target</th>\n",
       "    </tr>\n",
       "  </thead>\n",
       "  <tbody>\n",
       "    <tr>\n",
       "      <th>0</th>\n",
       "      <td>0</td>\n",
       "      <td>2</td>\n",
       "      <td>0</td>\n",
       "      <td>0</td>\n",
       "      <td>1</td>\n",
       "      <td>1</td>\n",
       "      <td>1</td>\n",
       "      <td>0</td>\n",
       "      <td>1</td>\n",
       "      <td>0</td>\n",
       "      <td>...</td>\n",
       "      <td>1.0</td>\n",
       "      <td>1.0</td>\n",
       "      <td>0</td>\n",
       "      <td>2</td>\n",
       "      <td>0</td>\n",
       "      <td>0</td>\n",
       "      <td>1</td>\n",
       "      <td>1</td>\n",
       "      <td>1</td>\n",
       "      <td>0.0</td>\n",
       "    </tr>\n",
       "    <tr>\n",
       "      <th>1</th>\n",
       "      <td>2</td>\n",
       "      <td>1</td>\n",
       "      <td>0</td>\n",
       "      <td>0</td>\n",
       "      <td>0</td>\n",
       "      <td>0</td>\n",
       "      <td>4</td>\n",
       "      <td>2</td>\n",
       "      <td>1</td>\n",
       "      <td>0</td>\n",
       "      <td>...</td>\n",
       "      <td>0.0</td>\n",
       "      <td>1.0</td>\n",
       "      <td>2</td>\n",
       "      <td>1</td>\n",
       "      <td>0</td>\n",
       "      <td>0</td>\n",
       "      <td>0</td>\n",
       "      <td>0</td>\n",
       "      <td>4</td>\n",
       "      <td>0.5</td>\n",
       "    </tr>\n",
       "    <tr>\n",
       "      <th>2</th>\n",
       "      <td>1</td>\n",
       "      <td>0</td>\n",
       "      <td>0</td>\n",
       "      <td>0</td>\n",
       "      <td>0</td>\n",
       "      <td>4</td>\n",
       "      <td>1</td>\n",
       "      <td>1</td>\n",
       "      <td>0</td>\n",
       "      <td>0</td>\n",
       "      <td>...</td>\n",
       "      <td>1.0</td>\n",
       "      <td>1.0</td>\n",
       "      <td>1</td>\n",
       "      <td>0</td>\n",
       "      <td>0</td>\n",
       "      <td>0</td>\n",
       "      <td>0</td>\n",
       "      <td>4</td>\n",
       "      <td>1</td>\n",
       "      <td>0.0</td>\n",
       "    </tr>\n",
       "    <tr>\n",
       "      <th>3</th>\n",
       "      <td>1</td>\n",
       "      <td>0</td>\n",
       "      <td>0</td>\n",
       "      <td>1</td>\n",
       "      <td>0</td>\n",
       "      <td>0</td>\n",
       "      <td>1</td>\n",
       "      <td>1</td>\n",
       "      <td>0</td>\n",
       "      <td>0</td>\n",
       "      <td>...</td>\n",
       "      <td>0.0</td>\n",
       "      <td>1.0</td>\n",
       "      <td>1</td>\n",
       "      <td>0</td>\n",
       "      <td>0</td>\n",
       "      <td>1</td>\n",
       "      <td>0</td>\n",
       "      <td>0</td>\n",
       "      <td>1</td>\n",
       "      <td>2.5</td>\n",
       "    </tr>\n",
       "    <tr>\n",
       "      <th>4</th>\n",
       "      <td>0</td>\n",
       "      <td>1</td>\n",
       "      <td>0</td>\n",
       "      <td>0</td>\n",
       "      <td>1</td>\n",
       "      <td>2</td>\n",
       "      <td>3</td>\n",
       "      <td>0</td>\n",
       "      <td>1</td>\n",
       "      <td>0</td>\n",
       "      <td>...</td>\n",
       "      <td>1.0</td>\n",
       "      <td>1.0</td>\n",
       "      <td>0</td>\n",
       "      <td>1</td>\n",
       "      <td>0</td>\n",
       "      <td>0</td>\n",
       "      <td>1</td>\n",
       "      <td>2</td>\n",
       "      <td>3</td>\n",
       "      <td>0.5</td>\n",
       "    </tr>\n",
       "  </tbody>\n",
       "</table>\n",
       "<p>5 rows × 78 columns</p>\n",
       "</div>"
      ],
      "text/plain": [
       "   NCD_0  NCD_1  NCD_2  NCD_3  NCD_4  NCD_5  NCD_6  AI_0  AI_1  AI_2   ...    \\\n",
       "0      0      2      0      0      1      1      1     0     1     0   ...     \n",
       "1      2      1      0      0      0      0      4     2     1     0   ...     \n",
       "2      1      0      0      0      0      4      1     1     0     0   ...     \n",
       "3      1      0      0      1      0      0      1     1     0     0   ...     \n",
       "4      0      1      0      0      1      2      3     0     1     0   ...     \n",
       "\n",
       "   ADL_5  ADL_6  NAD_0  NAD_1  NAD_2  NAD_3  NAD_4  NAD_5  NAD_6  Target  \n",
       "0    1.0    1.0      0      2      0      0      1      1      1     0.0  \n",
       "1    0.0    1.0      2      1      0      0      0      0      4     0.5  \n",
       "2    1.0    1.0      1      0      0      0      0      4      1     0.0  \n",
       "3    0.0    1.0      1      0      0      1      0      0      1     2.5  \n",
       "4    1.0    1.0      0      1      0      0      1      2      3     0.5  \n",
       "\n",
       "[5 rows x 78 columns]"
      ]
     },
     "execution_count": 12,
     "metadata": {},
     "output_type": "execute_result"
    }
   ],
   "source": [
    "data.head()"
   ]
  },
  {
   "cell_type": "code",
   "execution_count": 13,
   "metadata": {},
   "outputs": [
    {
     "data": {
      "text/plain": [
       "(583250, 78)"
      ]
     },
     "execution_count": 13,
     "metadata": {},
     "output_type": "execute_result"
    }
   ],
   "source": [
    "data.shape"
   ]
  },
  {
   "cell_type": "code",
   "execution_count": 14,
   "metadata": {},
   "outputs": [
    {
     "data": {
      "text/html": [
       "<div>\n",
       "<style scoped>\n",
       "    .dataframe tbody tr th:only-of-type {\n",
       "        vertical-align: middle;\n",
       "    }\n",
       "\n",
       "    .dataframe tbody tr th {\n",
       "        vertical-align: top;\n",
       "    }\n",
       "\n",
       "    .dataframe thead th {\n",
       "        text-align: right;\n",
       "    }\n",
       "</style>\n",
       "<table border=\"1\" class=\"dataframe\">\n",
       "  <thead>\n",
       "    <tr style=\"text-align: right;\">\n",
       "      <th></th>\n",
       "      <th>NCD_0</th>\n",
       "      <th>NCD_1</th>\n",
       "      <th>NCD_2</th>\n",
       "      <th>NCD_3</th>\n",
       "      <th>NCD_4</th>\n",
       "      <th>NCD_5</th>\n",
       "      <th>NCD_6</th>\n",
       "      <th>AI_0</th>\n",
       "      <th>AI_1</th>\n",
       "      <th>AI_2</th>\n",
       "      <th>...</th>\n",
       "      <th>ADL_5</th>\n",
       "      <th>ADL_6</th>\n",
       "      <th>NAD_0</th>\n",
       "      <th>NAD_1</th>\n",
       "      <th>NAD_2</th>\n",
       "      <th>NAD_3</th>\n",
       "      <th>NAD_4</th>\n",
       "      <th>NAD_5</th>\n",
       "      <th>NAD_6</th>\n",
       "      <th>Target</th>\n",
       "    </tr>\n",
       "  </thead>\n",
       "  <tbody>\n",
       "    <tr>\n",
       "      <th>count</th>\n",
       "      <td>583250.000000</td>\n",
       "      <td>583250.000000</td>\n",
       "      <td>583250.000000</td>\n",
       "      <td>583250.000000</td>\n",
       "      <td>583250.000000</td>\n",
       "      <td>583250.000000</td>\n",
       "      <td>583250.000000</td>\n",
       "      <td>583250.000000</td>\n",
       "      <td>583250.000000</td>\n",
       "      <td>583250.000000</td>\n",
       "      <td>...</td>\n",
       "      <td>583250.000000</td>\n",
       "      <td>583250.000000</td>\n",
       "      <td>583250.000000</td>\n",
       "      <td>583250.000000</td>\n",
       "      <td>583250.000000</td>\n",
       "      <td>583250.000000</td>\n",
       "      <td>583250.000000</td>\n",
       "      <td>583250.000000</td>\n",
       "      <td>583250.000000</td>\n",
       "      <td>583250.000000</td>\n",
       "    </tr>\n",
       "    <tr>\n",
       "      <th>mean</th>\n",
       "      <td>140.339640</td>\n",
       "      <td>136.770147</td>\n",
       "      <td>159.679271</td>\n",
       "      <td>181.592091</td>\n",
       "      <td>201.097445</td>\n",
       "      <td>220.175371</td>\n",
       "      <td>219.388214</td>\n",
       "      <td>71.038051</td>\n",
       "      <td>69.829631</td>\n",
       "      <td>82.198203</td>\n",
       "      <td>...</td>\n",
       "      <td>1.136688</td>\n",
       "      <td>1.140372</td>\n",
       "      <td>140.789860</td>\n",
       "      <td>137.181270</td>\n",
       "      <td>160.105922</td>\n",
       "      <td>182.057440</td>\n",
       "      <td>201.596482</td>\n",
       "      <td>220.705900</td>\n",
       "      <td>219.936864</td>\n",
       "      <td>191.279493</td>\n",
       "    </tr>\n",
       "    <tr>\n",
       "      <th>std</th>\n",
       "      <td>431.772639</td>\n",
       "      <td>432.305129</td>\n",
       "      <td>502.057428</td>\n",
       "      <td>574.883713</td>\n",
       "      <td>630.448432</td>\n",
       "      <td>669.205930</td>\n",
       "      <td>672.182204</td>\n",
       "      <td>196.876718</td>\n",
       "      <td>202.199758</td>\n",
       "      <td>239.523042</td>\n",
       "      <td>...</td>\n",
       "      <td>1.432327</td>\n",
       "      <td>1.552313</td>\n",
       "      <td>432.624954</td>\n",
       "      <td>433.026611</td>\n",
       "      <td>502.774408</td>\n",
       "      <td>575.658022</td>\n",
       "      <td>631.258318</td>\n",
       "      <td>670.050977</td>\n",
       "      <td>673.032541</td>\n",
       "      <td>612.352354</td>\n",
       "    </tr>\n",
       "    <tr>\n",
       "      <th>min</th>\n",
       "      <td>0.000000</td>\n",
       "      <td>0.000000</td>\n",
       "      <td>0.000000</td>\n",
       "      <td>0.000000</td>\n",
       "      <td>0.000000</td>\n",
       "      <td>0.000000</td>\n",
       "      <td>0.000000</td>\n",
       "      <td>0.000000</td>\n",
       "      <td>0.000000</td>\n",
       "      <td>0.000000</td>\n",
       "      <td>...</td>\n",
       "      <td>0.000000</td>\n",
       "      <td>0.000000</td>\n",
       "      <td>0.000000</td>\n",
       "      <td>0.000000</td>\n",
       "      <td>0.000000</td>\n",
       "      <td>0.000000</td>\n",
       "      <td>0.000000</td>\n",
       "      <td>0.000000</td>\n",
       "      <td>0.000000</td>\n",
       "      <td>0.000000</td>\n",
       "    </tr>\n",
       "    <tr>\n",
       "      <th>25%</th>\n",
       "      <td>3.000000</td>\n",
       "      <td>3.000000</td>\n",
       "      <td>4.000000</td>\n",
       "      <td>4.000000</td>\n",
       "      <td>5.000000</td>\n",
       "      <td>6.000000</td>\n",
       "      <td>6.000000</td>\n",
       "      <td>2.000000</td>\n",
       "      <td>2.000000</td>\n",
       "      <td>2.000000</td>\n",
       "      <td>...</td>\n",
       "      <td>1.000000</td>\n",
       "      <td>1.000000</td>\n",
       "      <td>3.000000</td>\n",
       "      <td>3.000000</td>\n",
       "      <td>4.000000</td>\n",
       "      <td>4.000000</td>\n",
       "      <td>5.000000</td>\n",
       "      <td>6.000000</td>\n",
       "      <td>6.000000</td>\n",
       "      <td>4.500000</td>\n",
       "    </tr>\n",
       "    <tr>\n",
       "      <th>50%</th>\n",
       "      <td>18.000000</td>\n",
       "      <td>17.000000</td>\n",
       "      <td>21.000000</td>\n",
       "      <td>24.000000</td>\n",
       "      <td>27.000000</td>\n",
       "      <td>31.000000</td>\n",
       "      <td>30.000000</td>\n",
       "      <td>11.000000</td>\n",
       "      <td>11.000000</td>\n",
       "      <td>13.000000</td>\n",
       "      <td>...</td>\n",
       "      <td>1.000000</td>\n",
       "      <td>1.000000</td>\n",
       "      <td>18.000000</td>\n",
       "      <td>17.000000</td>\n",
       "      <td>21.000000</td>\n",
       "      <td>24.000000</td>\n",
       "      <td>27.000000</td>\n",
       "      <td>31.000000</td>\n",
       "      <td>31.000000</td>\n",
       "      <td>25.500000</td>\n",
       "    </tr>\n",
       "    <tr>\n",
       "      <th>75%</th>\n",
       "      <td>104.000000</td>\n",
       "      <td>100.000000</td>\n",
       "      <td>115.000000</td>\n",
       "      <td>131.000000</td>\n",
       "      <td>147.000000</td>\n",
       "      <td>166.000000</td>\n",
       "      <td>164.000000</td>\n",
       "      <td>59.000000</td>\n",
       "      <td>57.000000</td>\n",
       "      <td>65.000000</td>\n",
       "      <td>...</td>\n",
       "      <td>1.090909</td>\n",
       "      <td>1.091296</td>\n",
       "      <td>104.000000</td>\n",
       "      <td>101.000000</td>\n",
       "      <td>115.000000</td>\n",
       "      <td>131.000000</td>\n",
       "      <td>148.000000</td>\n",
       "      <td>167.000000</td>\n",
       "      <td>165.000000</td>\n",
       "      <td>139.000000</td>\n",
       "    </tr>\n",
       "    <tr>\n",
       "      <th>max</th>\n",
       "      <td>24210.000000</td>\n",
       "      <td>29574.000000</td>\n",
       "      <td>37505.000000</td>\n",
       "      <td>72366.000000</td>\n",
       "      <td>79079.000000</td>\n",
       "      <td>79079.000000</td>\n",
       "      <td>79079.000000</td>\n",
       "      <td>18654.000000</td>\n",
       "      <td>22035.000000</td>\n",
       "      <td>29402.000000</td>\n",
       "      <td>...</td>\n",
       "      <td>262.000000</td>\n",
       "      <td>295.000000</td>\n",
       "      <td>24301.000000</td>\n",
       "      <td>29574.000000</td>\n",
       "      <td>37505.000000</td>\n",
       "      <td>72366.000000</td>\n",
       "      <td>79083.000000</td>\n",
       "      <td>79083.000000</td>\n",
       "      <td>79083.000000</td>\n",
       "      <td>75724.500000</td>\n",
       "    </tr>\n",
       "  </tbody>\n",
       "</table>\n",
       "<p>8 rows × 78 columns</p>\n",
       "</div>"
      ],
      "text/plain": [
       "               NCD_0          NCD_1          NCD_2          NCD_3  \\\n",
       "count  583250.000000  583250.000000  583250.000000  583250.000000   \n",
       "mean      140.339640     136.770147     159.679271     181.592091   \n",
       "std       431.772639     432.305129     502.057428     574.883713   \n",
       "min         0.000000       0.000000       0.000000       0.000000   \n",
       "25%         3.000000       3.000000       4.000000       4.000000   \n",
       "50%        18.000000      17.000000      21.000000      24.000000   \n",
       "75%       104.000000     100.000000     115.000000     131.000000   \n",
       "max     24210.000000   29574.000000   37505.000000   72366.000000   \n",
       "\n",
       "               NCD_4          NCD_5          NCD_6           AI_0  \\\n",
       "count  583250.000000  583250.000000  583250.000000  583250.000000   \n",
       "mean      201.097445     220.175371     219.388214      71.038051   \n",
       "std       630.448432     669.205930     672.182204     196.876718   \n",
       "min         0.000000       0.000000       0.000000       0.000000   \n",
       "25%         5.000000       6.000000       6.000000       2.000000   \n",
       "50%        27.000000      31.000000      30.000000      11.000000   \n",
       "75%       147.000000     166.000000     164.000000      59.000000   \n",
       "max     79079.000000   79079.000000   79079.000000   18654.000000   \n",
       "\n",
       "                AI_1           AI_2      ...                ADL_5  \\\n",
       "count  583250.000000  583250.000000      ...        583250.000000   \n",
       "mean       69.829631      82.198203      ...             1.136688   \n",
       "std       202.199758     239.523042      ...             1.432327   \n",
       "min         0.000000       0.000000      ...             0.000000   \n",
       "25%         2.000000       2.000000      ...             1.000000   \n",
       "50%        11.000000      13.000000      ...             1.000000   \n",
       "75%        57.000000      65.000000      ...             1.090909   \n",
       "max     22035.000000   29402.000000      ...           262.000000   \n",
       "\n",
       "               ADL_6          NAD_0          NAD_1          NAD_2  \\\n",
       "count  583250.000000  583250.000000  583250.000000  583250.000000   \n",
       "mean        1.140372     140.789860     137.181270     160.105922   \n",
       "std         1.552313     432.624954     433.026611     502.774408   \n",
       "min         0.000000       0.000000       0.000000       0.000000   \n",
       "25%         1.000000       3.000000       3.000000       4.000000   \n",
       "50%         1.000000      18.000000      17.000000      21.000000   \n",
       "75%         1.091296     104.000000     101.000000     115.000000   \n",
       "max       295.000000   24301.000000   29574.000000   37505.000000   \n",
       "\n",
       "               NAD_3          NAD_4          NAD_5          NAD_6  \\\n",
       "count  583250.000000  583250.000000  583250.000000  583250.000000   \n",
       "mean      182.057440     201.596482     220.705900     219.936864   \n",
       "std       575.658022     631.258318     670.050977     673.032541   \n",
       "min         0.000000       0.000000       0.000000       0.000000   \n",
       "25%         4.000000       5.000000       6.000000       6.000000   \n",
       "50%        24.000000      27.000000      31.000000      31.000000   \n",
       "75%       131.000000     148.000000     167.000000     165.000000   \n",
       "max     72366.000000   79083.000000   79083.000000   79083.000000   \n",
       "\n",
       "              Target  \n",
       "count  583250.000000  \n",
       "mean      191.279493  \n",
       "std       612.352354  \n",
       "min         0.000000  \n",
       "25%         4.500000  \n",
       "50%        25.500000  \n",
       "75%       139.000000  \n",
       "max     75724.500000  \n",
       "\n",
       "[8 rows x 78 columns]"
      ]
     },
     "execution_count": 14,
     "metadata": {},
     "output_type": "execute_result"
    }
   ],
   "source": [
    "data.describe()"
   ]
  },
  {
   "cell_type": "code",
   "execution_count": 15,
   "metadata": {},
   "outputs": [
    {
     "name": "stdout",
     "output_type": "stream",
     "text": [
      "<class 'pandas.core.frame.DataFrame'>\n",
      "RangeIndex: 583250 entries, 0 to 583249\n",
      "Data columns (total 78 columns):\n",
      "NCD_0        583250 non-null int64\n",
      "NCD_1        583250 non-null int64\n",
      "NCD_2        583250 non-null int64\n",
      "NCD_3        583250 non-null int64\n",
      "NCD_4        583250 non-null int64\n",
      "NCD_5        583250 non-null int64\n",
      "NCD_6        583250 non-null int64\n",
      "AI_0         583250 non-null int64\n",
      "AI_1         583250 non-null int64\n",
      "AI_2         583250 non-null int64\n",
      "AI_3         583250 non-null int64\n",
      "AI_4         583250 non-null int64\n",
      "AI_5         583250 non-null int64\n",
      "AI_6         583250 non-null int64\n",
      "AS(NA)_0     583250 non-null float64\n",
      "AS(NA)_1     583250 non-null float64\n",
      "AS(NA)_2     583250 non-null float64\n",
      "AS(NA)_3     583250 non-null float64\n",
      "AS(NA)_4     583250 non-null float64\n",
      "AS(NA)_5     583250 non-null float64\n",
      "AS(NA)_6     583250 non-null float64\n",
      "BL_0         583250 non-null float64\n",
      "BL_1         583250 non-null float64\n",
      "BL_2         583250 non-null float64\n",
      "BL_3         583250 non-null float64\n",
      "BL_4         583250 non-null float64\n",
      "BL_5         583250 non-null float64\n",
      "BL_6         583250 non-null float64\n",
      "NAC_0        583250 non-null int64\n",
      "NAC_1        583250 non-null int64\n",
      "NAC_2        583250 non-null int64\n",
      "NAC_3        583250 non-null int64\n",
      "NAC_4        583250 non-null int64\n",
      "NAC_5        583250 non-null int64\n",
      "NAC_6        583250 non-null int64\n",
      "AS(NAC)_0    583250 non-null float64\n",
      "AS(NAC)_1    583250 non-null float64\n",
      "AS(NAC)_2    583250 non-null float64\n",
      "AS(NAC)_3    583250 non-null float64\n",
      "AS(NAC)_4    583250 non-null float64\n",
      "AS(NAC)_5    583250 non-null float64\n",
      "AS(NAC)_6    583250 non-null float64\n",
      "CS_0         583250 non-null float64\n",
      "CS_1         583250 non-null float64\n",
      "CS_2         583250 non-null float64\n",
      "CS_3         583250 non-null float64\n",
      "CS_4         583250 non-null float64\n",
      "CS_5         583250 non-null float64\n",
      "CS_6         583250 non-null float64\n",
      "AT_0         583250 non-null float64\n",
      "AT_1         583250 non-null float64\n",
      "AT_2         583250 non-null float64\n",
      "AT_3         583250 non-null float64\n",
      "AT_4         583250 non-null float64\n",
      "AT_5         583250 non-null float64\n",
      "AT_6         583250 non-null float64\n",
      "NA_0         583250 non-null int64\n",
      "NA_1         583250 non-null int64\n",
      "NA_2         583250 non-null int64\n",
      "NA_3         583250 non-null int64\n",
      "NA_4         583250 non-null int64\n",
      "NA_5         583250 non-null int64\n",
      "NA_6         583250 non-null int64\n",
      "ADL_0        583250 non-null float64\n",
      "ADL_1        583250 non-null float64\n",
      "ADL_2        583250 non-null float64\n",
      "ADL_3        583250 non-null float64\n",
      "ADL_4        583250 non-null float64\n",
      "ADL_5        583250 non-null float64\n",
      "ADL_6        583250 non-null float64\n",
      "NAD_0        583250 non-null int64\n",
      "NAD_1        583250 non-null int64\n",
      "NAD_2        583250 non-null int64\n",
      "NAD_3        583250 non-null int64\n",
      "NAD_4        583250 non-null int64\n",
      "NAD_5        583250 non-null int64\n",
      "NAD_6        583250 non-null int64\n",
      "Target       583250 non-null float64\n",
      "dtypes: float64(43), int64(35)\n",
      "memory usage: 347.1 MB\n"
     ]
    }
   ],
   "source": [
    "data.info()"
   ]
  },
  {
   "cell_type": "code",
   "execution_count": 4,
   "metadata": {},
   "outputs": [],
   "source": [
    "X = data.iloc[:,:-1]\n",
    "y = data.iloc[:,-1]\n",
    "\n",
    "from sklearn.model_selection import train_test_split\n",
    "_, sample_data, _, sample_target = train_test_split(X, y, shuffle = True, test_size = 0.1)"
   ]
  },
  {
   "cell_type": "code",
   "execution_count": 5,
   "metadata": {},
   "outputs": [],
   "source": [
    "from sklearn.preprocessing import MinMaxScaler\n",
    "\n",
    "X_train_org, X_test_org, y_train, y_test = train_test_split(sample_data, sample_target, random_state = 0)\n",
    "\n",
    "scaler = MinMaxScaler()\n",
    "X_train = scaler.fit_transform(X_train_org)\n",
    "X_test = scaler.transform(X_test_org)"
   ]
  },
  {
   "cell_type": "markdown",
   "metadata": {},
   "source": [
    "# Regression Models:"
   ]
  },
  {
   "cell_type": "markdown",
   "metadata": {},
   "source": [
    "### 1. Bagging"
   ]
  },
  {
   "cell_type": "code",
   "execution_count": 20,
   "metadata": {},
   "outputs": [],
   "source": [
    "from sklearn.ensemble import BaggingRegressor\n",
    "from sklearn.neighbors import KNeighborsRegressor\n",
    "\n",
    "knn_reg = KNeighborsRegressor(3)\n",
    "bag_reg1 = BaggingRegressor(knn_reg, n_estimators=500, max_samples=100, bootstrap=True, n_jobs=-1, random_state=0)"
   ]
  },
  {
   "cell_type": "code",
   "execution_count": 21,
   "metadata": {},
   "outputs": [
    {
     "data": {
      "text/plain": [
       "BaggingRegressor(base_estimator=KNeighborsRegressor(algorithm='auto', leaf_size=30, metric='minkowski',\n",
       "          metric_params=None, n_jobs=1, n_neighbors=3, p=2,\n",
       "          weights='uniform'),\n",
       "         bootstrap=True, bootstrap_features=False, max_features=1.0,\n",
       "         max_samples=100, n_estimators=500, n_jobs=-1, oob_score=False,\n",
       "         random_state=0, verbose=0, warm_start=False)"
      ]
     },
     "execution_count": 21,
     "metadata": {},
     "output_type": "execute_result"
    }
   ],
   "source": [
    "bag_reg1.fit(X_train, y_train)"
   ]
  },
  {
   "cell_type": "code",
   "execution_count": 22,
   "metadata": {},
   "outputs": [
    {
     "name": "stdout",
     "output_type": "stream",
     "text": [
      "Train score: 0.54\n",
      "Test score: 0.50\n"
     ]
    }
   ],
   "source": [
    "print('Train score: {:.2f}'.format(bag_reg1.score(X_train, y_train)))\n",
    "print('Test score: {:.2f}'.format(bag_reg1.score(X_test, y_test)))"
   ]
  },
  {
   "cell_type": "code",
   "execution_count": 154,
   "metadata": {},
   "outputs": [],
   "source": [
    "report_table = [['KNN Regressor with Bagging', 'K = 3', bag_reg1.score(X_train, y_train), bag_reg1.score(X_test, y_test)]]"
   ]
  },
  {
   "cell_type": "code",
   "execution_count": 23,
   "metadata": {},
   "outputs": [],
   "source": [
    "from sklearn.linear_model import LinearRegression\n",
    "\n",
    "linear_reg = LinearRegression()\n",
    "bag_reg2 = BaggingRegressor(linear_reg, n_estimators=500, max_samples=100, bootstrap=True, n_jobs=-1, random_state=0)"
   ]
  },
  {
   "cell_type": "code",
   "execution_count": 25,
   "metadata": {},
   "outputs": [
    {
     "data": {
      "text/plain": [
       "BaggingRegressor(base_estimator=LinearRegression(copy_X=True, fit_intercept=True, n_jobs=1, normalize=False),\n",
       "         bootstrap=True, bootstrap_features=False, max_features=1.0,\n",
       "         max_samples=100, n_estimators=500, n_jobs=-1, oob_score=False,\n",
       "         random_state=0, verbose=0, warm_start=False)"
      ]
     },
     "execution_count": 25,
     "metadata": {},
     "output_type": "execute_result"
    }
   ],
   "source": [
    "bag_reg2.fit(X_train, y_train)"
   ]
  },
  {
   "cell_type": "code",
   "execution_count": 26,
   "metadata": {},
   "outputs": [
    {
     "name": "stdout",
     "output_type": "stream",
     "text": [
      "Train score: 0.92\n",
      "Test score: 0.91\n"
     ]
    }
   ],
   "source": [
    "print('Train score: {:.2f}'.format(bag_reg2.score(X_train, y_train)))\n",
    "print('Test score: {:.2f}'.format(bag_reg2.score(X_test, y_test)))"
   ]
  },
  {
   "cell_type": "code",
   "execution_count": 155,
   "metadata": {},
   "outputs": [],
   "source": [
    "report_table = report_table + [['Linear Regression with Bagging', '-', bag_reg2.score(X_train, y_train), bag_reg2.score(X_test, y_test)]]"
   ]
  },
  {
   "cell_type": "markdown",
   "metadata": {},
   "source": [
    "### 2. Pasting"
   ]
  },
  {
   "cell_type": "code",
   "execution_count": 27,
   "metadata": {},
   "outputs": [],
   "source": [
    "from sklearn.ensemble import BaggingRegressor\n",
    "from sklearn.neighbors import KNeighborsRegressor\n",
    "\n",
    "knn_reg = KNeighborsRegressor(3)\n",
    "paste_reg1 = BaggingRegressor(knn_reg, n_estimators=500, max_samples=100, bootstrap=False, n_jobs=-1, random_state=0)"
   ]
  },
  {
   "cell_type": "code",
   "execution_count": 28,
   "metadata": {},
   "outputs": [
    {
     "data": {
      "text/plain": [
       "BaggingRegressor(base_estimator=KNeighborsRegressor(algorithm='auto', leaf_size=30, metric='minkowski',\n",
       "          metric_params=None, n_jobs=1, n_neighbors=3, p=2,\n",
       "          weights='uniform'),\n",
       "         bootstrap=False, bootstrap_features=False, max_features=1.0,\n",
       "         max_samples=100, n_estimators=500, n_jobs=-1, oob_score=False,\n",
       "         random_state=0, verbose=0, warm_start=False)"
      ]
     },
     "execution_count": 28,
     "metadata": {},
     "output_type": "execute_result"
    }
   ],
   "source": [
    "paste_reg1.fit(X_train, y_train)"
   ]
  },
  {
   "cell_type": "code",
   "execution_count": 29,
   "metadata": {},
   "outputs": [
    {
     "name": "stdout",
     "output_type": "stream",
     "text": [
      "Train score: 0.54\n",
      "Test score: 0.50\n"
     ]
    }
   ],
   "source": [
    "print('Train score: {:.2f}'.format(paste_reg1.score(X_train, y_train)))\n",
    "print('Test score: {:.2f}'.format(paste_reg1.score(X_test, y_test)))"
   ]
  },
  {
   "cell_type": "code",
   "execution_count": 156,
   "metadata": {},
   "outputs": [],
   "source": [
    "report_table = report_table + [['KNN Regressor with Pasting', 'K = 3', paste_reg1.score(X_train, y_train), paste_reg1.score(X_test, y_test)]]"
   ]
  },
  {
   "cell_type": "code",
   "execution_count": 30,
   "metadata": {},
   "outputs": [],
   "source": [
    "from sklearn.linear_model import LinearRegression\n",
    "\n",
    "linear_reg = LinearRegression()\n",
    "paste_reg2 = BaggingRegressor(linear_reg, n_estimators=500, max_samples=100, bootstrap=False, n_jobs=-1, random_state=0)"
   ]
  },
  {
   "cell_type": "code",
   "execution_count": 31,
   "metadata": {},
   "outputs": [
    {
     "data": {
      "text/plain": [
       "BaggingRegressor(base_estimator=LinearRegression(copy_X=True, fit_intercept=True, n_jobs=1, normalize=False),\n",
       "         bootstrap=False, bootstrap_features=False, max_features=1.0,\n",
       "         max_samples=100, n_estimators=500, n_jobs=-1, oob_score=False,\n",
       "         random_state=0, verbose=0, warm_start=False)"
      ]
     },
     "execution_count": 31,
     "metadata": {},
     "output_type": "execute_result"
    }
   ],
   "source": [
    "paste_reg2.fit(X_train, y_train)"
   ]
  },
  {
   "cell_type": "code",
   "execution_count": 32,
   "metadata": {},
   "outputs": [
    {
     "name": "stdout",
     "output_type": "stream",
     "text": [
      "Train score: 0.92\n",
      "Test score: 0.91\n"
     ]
    }
   ],
   "source": [
    "print('Train score: {:.2f}'.format(paste_reg2.score(X_train, y_train)))\n",
    "print('Test score: {:.2f}'.format(paste_reg2.score(X_test, y_test)))"
   ]
  },
  {
   "cell_type": "code",
   "execution_count": 157,
   "metadata": {},
   "outputs": [],
   "source": [
    "report_table = report_table + [['Linear Regression with Pasting', '-', paste_reg2.score(X_train, y_train), paste_reg2.score(X_test, y_test)]]"
   ]
  },
  {
   "cell_type": "markdown",
   "metadata": {},
   "source": [
    "### 3. AdaBoost"
   ]
  },
  {
   "cell_type": "code",
   "execution_count": 132,
   "metadata": {},
   "outputs": [],
   "source": [
    "from sklearn.model_selection import train_test_split\n",
    "_, sample_data_10, _, sample_target_10 = train_test_split(X, y, shuffle = True, test_size = 0.01)"
   ]
  },
  {
   "cell_type": "code",
   "execution_count": 133,
   "metadata": {},
   "outputs": [],
   "source": [
    "X_train_10_org, X_test_10_org, y_train_10, y_test_10 = train_test_split(sample_data_10, sample_target_10, random_state = 0)\n",
    "\n",
    "scaler = MinMaxScaler()\n",
    "X_train_10 = scaler.fit_transform(X_train_10_org)\n",
    "X_test_10 = scaler.transform(X_test_10_org)"
   ]
  },
  {
   "cell_type": "code",
   "execution_count": 135,
   "metadata": {},
   "outputs": [
    {
     "data": {
      "text/plain": [
       "AdaBoostRegressor(base_estimator=KNeighborsRegressor(algorithm='auto', leaf_size=30, metric='minkowski',\n",
       "          metric_params=None, n_jobs=1, n_neighbors=3, p=2,\n",
       "          weights='uniform'),\n",
       "         learning_rate=0.5, loss='linear', n_estimators=200,\n",
       "         random_state=0)"
      ]
     },
     "execution_count": 135,
     "metadata": {},
     "output_type": "execute_result"
    }
   ],
   "source": [
    "from sklearn.ensemble import AdaBoostRegressor\n",
    "\n",
    "ada_reg1 = AdaBoostRegressor(KNeighborsRegressor(3), n_estimators=200, learning_rate=0.5, random_state=0)\n",
    "ada_reg1.fit(X_train_10, y_train_10)"
   ]
  },
  {
   "cell_type": "code",
   "execution_count": 136,
   "metadata": {},
   "outputs": [
    {
     "name": "stdout",
     "output_type": "stream",
     "text": [
      "Train score: 1.00\n",
      "Test score: 0.72\n"
     ]
    }
   ],
   "source": [
    "print('Train score: {:.2f}'.format(ada_reg1.score(X_train_10, y_train_10)))\n",
    "print('Test score: {:.2f}'.format(ada_reg1.score(X_test_10, y_test_10)))"
   ]
  },
  {
   "cell_type": "code",
   "execution_count": 158,
   "metadata": {},
   "outputs": [],
   "source": [
    "report_table = report_table + [['Ada Boost with KNN', 'K = 3', ada_reg1.score(X_train_10, y_train_10), ada_reg1.score(X_test_10, y_test_10)]]"
   ]
  },
  {
   "cell_type": "code",
   "execution_count": 138,
   "metadata": {},
   "outputs": [
    {
     "data": {
      "text/plain": [
       "AdaBoostRegressor(base_estimator=LinearRegression(copy_X=True, fit_intercept=True, n_jobs=1, normalize=False),\n",
       "         learning_rate=0.5, loss='linear', n_estimators=200,\n",
       "         random_state=0)"
      ]
     },
     "execution_count": 138,
     "metadata": {},
     "output_type": "execute_result"
    }
   ],
   "source": [
    "ada_reg2 = AdaBoostRegressor(LinearRegression(), n_estimators=200, learning_rate=0.5, random_state=0)\n",
    "ada_reg2.fit(X_train_10, y_train_10)"
   ]
  },
  {
   "cell_type": "code",
   "execution_count": 139,
   "metadata": {},
   "outputs": [
    {
     "name": "stdout",
     "output_type": "stream",
     "text": [
      "Train score: 0.93\n",
      "Test score: 0.88\n"
     ]
    }
   ],
   "source": [
    "print('Train score: {:.2f}'.format(ada_reg2.score(X_train_10, y_train_10)))\n",
    "print('Test score: {:.2f}'.format(ada_reg2.score(X_test_10, y_test_10)))"
   ]
  },
  {
   "cell_type": "code",
   "execution_count": 160,
   "metadata": {},
   "outputs": [],
   "source": [
    "report_table = report_table + [['Ada Boost with Linear Regression', '-', ada_reg2.score(X_train_10, y_train_10), ada_reg2.score(X_test_10, y_test_10)]]"
   ]
  },
  {
   "cell_type": "markdown",
   "metadata": {},
   "source": [
    "### 4. Gradient Boosting"
   ]
  },
  {
   "cell_type": "code",
   "execution_count": 143,
   "metadata": {},
   "outputs": [
    {
     "data": {
      "text/plain": [
       "GradientBoostingRegressor(alpha=0.9, criterion='friedman_mse', init=None,\n",
       "             learning_rate=1.0, loss='ls', max_depth=2, max_features=None,\n",
       "             max_leaf_nodes=None, min_impurity_decrease=0.0,\n",
       "             min_impurity_split=None, min_samples_leaf=1,\n",
       "             min_samples_split=2, min_weight_fraction_leaf=0.0,\n",
       "             n_estimators=3, presort='auto', random_state=42,\n",
       "             subsample=1.0, verbose=0, warm_start=False)"
      ]
     },
     "execution_count": 143,
     "metadata": {},
     "output_type": "execute_result"
    }
   ],
   "source": [
    "from  sklearn.ensemble import GradientBoostingRegressor\n",
    "\n",
    "gbrt = GradientBoostingRegressor(max_depth=2, n_estimators=3, learning_rate=1.0, random_state=42)\n",
    "gbrt.fit(X_train, y_train)"
   ]
  },
  {
   "cell_type": "code",
   "execution_count": 144,
   "metadata": {},
   "outputs": [
    {
     "name": "stdout",
     "output_type": "stream",
     "text": [
      "Train score: 0.89\n",
      "Test score: 0.86\n"
     ]
    }
   ],
   "source": [
    "print('Train score: {:.2f}'.format(gbrt.score(X_train, y_train)))\n",
    "print('Test score: {:.2f}'.format(gbrt.score(X_test, y_test)))"
   ]
  },
  {
   "cell_type": "code",
   "execution_count": 161,
   "metadata": {},
   "outputs": [],
   "source": [
    "report_table = report_table + [['Gradient Boosting', '-', gbrt.score(X_train, y_train), gbrt.score(X_test, y_test)]]"
   ]
  },
  {
   "cell_type": "code",
   "execution_count": 162,
   "metadata": {},
   "outputs": [
    {
     "data": {
      "text/plain": [
       "[['KNN Regressor with Bagging',\n",
       "  'K = 3',\n",
       "  0.5368388769586379,\n",
       "  0.5021941614291023],\n",
       " ['Linear Regression with Bagging',\n",
       "  '-',\n",
       "  0.9197651606935351,\n",
       "  0.9146543026093072],\n",
       " ['KNN Regressor with Pasting',\n",
       "  'K = 3',\n",
       "  0.5369001677499385,\n",
       "  0.502260885252289],\n",
       " ['Linear Regression with Pasting',\n",
       "  '-',\n",
       "  0.9179092649255198,\n",
       "  0.9134963164471642],\n",
       " ['Ada Boost with KNN', 'K = 3', 0.9994849697195989, 0.7156440652103654],\n",
       " ['Ada Boost with Linear Regression',\n",
       "  '-',\n",
       "  0.9348664979902501,\n",
       "  0.8757401037298926],\n",
       " ['Gradient Boosting', '-', 0.8935838961631928, 0.8632794390302264]]"
      ]
     },
     "execution_count": 162,
     "metadata": {},
     "output_type": "execute_result"
    }
   ],
   "source": [
    "report_table"
   ]
  },
  {
   "cell_type": "markdown",
   "metadata": {},
   "source": [
    "### 5. Models using PCA"
   ]
  },
  {
   "cell_type": "code",
   "execution_count": 67,
   "metadata": {},
   "outputs": [],
   "source": [
    "from sklearn.decomposition import PCA"
   ]
  },
  {
   "cell_type": "code",
   "execution_count": 68,
   "metadata": {},
   "outputs": [],
   "source": [
    "pca = PCA()\n",
    "pca.fit(X_train)\n",
    "\n",
    "cumsum = np.cumsum(pca.explained_variance_ratio_)\n",
    "d = np.argmax(cumsum >= 0.98) + 1"
   ]
  },
  {
   "cell_type": "code",
   "execution_count": 69,
   "metadata": {},
   "outputs": [
    {
     "data": {
      "text/plain": [
       "8"
      ]
     },
     "execution_count": 69,
     "metadata": {},
     "output_type": "execute_result"
    }
   ],
   "source": [
    "d"
   ]
  },
  {
   "cell_type": "code",
   "execution_count": 70,
   "metadata": {},
   "outputs": [],
   "source": [
    "pca = PCA(n_components = 8)\n",
    "X_reduced_train = pca.fit_transform(X_train)\n",
    "X_reduced_test = pca.fit_transform(X_test)"
   ]
  },
  {
   "cell_type": "code",
   "execution_count": 71,
   "metadata": {},
   "outputs": [
    {
     "data": {
      "text/plain": [
       "KNeighborsRegressor(algorithm='auto', leaf_size=30, metric='minkowski',\n",
       "          metric_params=None, n_jobs=1, n_neighbors=5, p=2,\n",
       "          weights='uniform')"
      ]
     },
     "execution_count": 71,
     "metadata": {},
     "output_type": "execute_result"
    }
   ],
   "source": [
    "knn_reg_pca = KNeighborsRegressor(5)\n",
    "knn_reg_pca.fit(X_reduced_train, y_train)"
   ]
  },
  {
   "cell_type": "code",
   "execution_count": 72,
   "metadata": {},
   "outputs": [
    {
     "name": "stdout",
     "output_type": "stream",
     "text": [
      "Train score: 0.91\n",
      "Test score: 0.81\n"
     ]
    }
   ],
   "source": [
    "print('Train score: {:.2f}'.format(knn_reg_pca.score(X_reduced_train, y_train)))\n",
    "print('Test score: {:.2f}'.format(knn_reg_pca.score(X_reduced_test, y_test)))"
   ]
  },
  {
   "cell_type": "code",
   "execution_count": 112,
   "metadata": {},
   "outputs": [],
   "source": [
    "pca_report_table = [['PCA on KNN Regressor', 'K= 5', knn_reg_pca.score(X_reduced_train, y_train), knn_reg_pca.score(X_reduced_test, y_test)]]"
   ]
  },
  {
   "cell_type": "code",
   "execution_count": 74,
   "metadata": {},
   "outputs": [
    {
     "data": {
      "text/plain": [
       "LinearRegression(copy_X=True, fit_intercept=True, n_jobs=1, normalize=False)"
      ]
     },
     "execution_count": 74,
     "metadata": {},
     "output_type": "execute_result"
    }
   ],
   "source": [
    "linear_reg_pca = LinearRegression()\n",
    "linear_reg_pca.fit(X_reduced_train, y_train)"
   ]
  },
  {
   "cell_type": "code",
   "execution_count": 75,
   "metadata": {},
   "outputs": [
    {
     "name": "stdout",
     "output_type": "stream",
     "text": [
      "Train score: 0.88\n",
      "Test score: 0.83\n"
     ]
    }
   ],
   "source": [
    "print('Train score: {:.2f}'.format(linear_reg_pca.score(X_reduced_train, y_train)))\n",
    "print('Test score: {:.2f}'.format(linear_reg_pca.score(X_reduced_test, y_test)))"
   ]
  },
  {
   "cell_type": "code",
   "execution_count": 113,
   "metadata": {},
   "outputs": [],
   "source": [
    "pca_report_table = pca_report_table + [['PCA on Linear Regression', '-', linear_reg_pca.score(X_reduced_train, y_train), linear_reg_pca.score(X_reduced_test, y_test)]]"
   ]
  },
  {
   "cell_type": "code",
   "execution_count": 79,
   "metadata": {},
   "outputs": [
    {
     "data": {
      "text/plain": [
       "SGDRegressor(alpha=0.0001, average=False, epsilon=0.1, eta0=0.01,\n",
       "       fit_intercept=True, l1_ratio=0.15, learning_rate='optimal',\n",
       "       loss='squared_loss', max_iter=10000, n_iter=None, penalty='l2',\n",
       "       power_t=0.25, random_state=0, shuffle=True, tol=None, verbose=0,\n",
       "       warm_start=False)"
      ]
     },
     "execution_count": 79,
     "metadata": {},
     "output_type": "execute_result"
    }
   ],
   "source": [
    "from sklearn.linear_model import SGDRegressor\n",
    "sgd_pca = SGDRegressor(learning_rate = 'optimal', max_iter = 10000, penalty = 'l2',random_state = 0)\n",
    "sgd_pca.fit(X_reduced_train, y_train)"
   ]
  },
  {
   "cell_type": "code",
   "execution_count": 80,
   "metadata": {},
   "outputs": [
    {
     "name": "stdout",
     "output_type": "stream",
     "text": [
      "Train score: 0.88\n",
      "Test score: 0.83\n"
     ]
    }
   ],
   "source": [
    "print('Train score: {:.2f}'.format(sgd_pca.score(X_reduced_train, y_train)))\n",
    "print('Test score: {:.2f}'.format(sgd_pca.score(X_reduced_test, y_test)))"
   ]
  },
  {
   "cell_type": "code",
   "execution_count": 114,
   "metadata": {},
   "outputs": [],
   "source": [
    "pca_report_table = pca_report_table + [['PCA on SGD Regression', 'max_iter = 10000 and penalty = l2', sgd_pca.score(X_reduced_train, y_train), sgd_pca.score(X_reduced_test, y_test)]]"
   ]
  },
  {
   "cell_type": "code",
   "execution_count": 82,
   "metadata": {},
   "outputs": [
    {
     "data": {
      "text/plain": [
       "Ridge(alpha=0.01, copy_X=True, fit_intercept=True, max_iter=None,\n",
       "   normalize=False, random_state=0, solver='auto', tol=0.001)"
      ]
     },
     "execution_count": 82,
     "metadata": {},
     "output_type": "execute_result"
    }
   ],
   "source": [
    "from  sklearn.linear_model import Ridge\n",
    "\n",
    "ridge_pca = Ridge(alpha = 0.01, random_state = 0)\n",
    "ridge_pca.fit(X_reduced_train, y_train)"
   ]
  },
  {
   "cell_type": "code",
   "execution_count": 83,
   "metadata": {},
   "outputs": [
    {
     "name": "stdout",
     "output_type": "stream",
     "text": [
      "Train score: 0.88\n",
      "Test score: 0.83\n"
     ]
    }
   ],
   "source": [
    "print('Train score: {:.2f}'.format(ridge_pca.score(X_reduced_train, y_train)))\n",
    "print('Test score: {:.2f}'.format(ridge_pca.score(X_reduced_test, y_test)))"
   ]
  },
  {
   "cell_type": "code",
   "execution_count": 115,
   "metadata": {},
   "outputs": [],
   "source": [
    "pca_report_table = pca_report_table + [['PCA on Ridge Regression', 'alpha = 0.01', ridge_pca.score(X_reduced_train, y_train), ridge_pca.score(X_reduced_test, y_test)]]"
   ]
  },
  {
   "cell_type": "code",
   "execution_count": 85,
   "metadata": {},
   "outputs": [
    {
     "data": {
      "text/plain": [
       "Lasso(alpha=0.01, copy_X=True, fit_intercept=True, max_iter=1000,\n",
       "   normalize=False, positive=False, precompute=False, random_state=0,\n",
       "   selection='cyclic', tol=0.0001, warm_start=False)"
      ]
     },
     "execution_count": 85,
     "metadata": {},
     "output_type": "execute_result"
    }
   ],
   "source": [
    "from  sklearn.linear_model import Lasso\n",
    "\n",
    "lasso_pca = Lasso(alpha = 0.01, random_state = 0)\n",
    "lasso_pca.fit(X_reduced_train, y_train)"
   ]
  },
  {
   "cell_type": "code",
   "execution_count": 86,
   "metadata": {},
   "outputs": [
    {
     "name": "stdout",
     "output_type": "stream",
     "text": [
      "Train score: 0.88\n",
      "Test score: 0.83\n"
     ]
    }
   ],
   "source": [
    "print('Train score: {:.2f}'.format(lasso_pca.score(X_reduced_train, y_train)))\n",
    "print('Test score: {:.2f}'.format(lasso_pca.score(X_reduced_test, y_test)))"
   ]
  },
  {
   "cell_type": "code",
   "execution_count": 116,
   "metadata": {},
   "outputs": [],
   "source": [
    "pca_report_table = pca_report_table + [['PCA on Lasso Regression', 'alpha = 0.01', lasso_pca.score(X_reduced_train, y_train), lasso_pca.score(X_reduced_test, y_test)]]"
   ]
  },
  {
   "cell_type": "code",
   "execution_count": 88,
   "metadata": {},
   "outputs": [
    {
     "data": {
      "text/plain": [
       "SVR(C=10, cache_size=200, coef0=0.0, degree=3, epsilon=0.1, gamma='auto',\n",
       "  kernel='linear', max_iter=-1, shrinking=True, tol=0.001, verbose=False)"
      ]
     },
     "execution_count": 88,
     "metadata": {},
     "output_type": "execute_result"
    }
   ],
   "source": [
    "from sklearn.svm import SVR\n",
    "\n",
    "svr_linear_pca = SVR(kernel = 'linear', C = 10) \n",
    "svr_linear_pca.fit(X_reduced_train, y_train)"
   ]
  },
  {
   "cell_type": "code",
   "execution_count": 89,
   "metadata": {},
   "outputs": [
    {
     "name": "stdout",
     "output_type": "stream",
     "text": [
      "Train score: 0.85\n",
      "Test score: 0.80\n"
     ]
    }
   ],
   "source": [
    "print('Train score: {:.2f}'.format(svr_linear_pca.score(X_reduced_train, y_train)))\n",
    "print('Test score: {:.2f}'.format(svr_linear_pca.score(X_reduced_test, y_test)))"
   ]
  },
  {
   "cell_type": "code",
   "execution_count": 117,
   "metadata": {},
   "outputs": [],
   "source": [
    "pca_report_table = pca_report_table + [['PCA on Linear SVR', 'C = 10', svr_linear_pca.score(X_reduced_train, y_train), svr_linear_pca.score(X_reduced_test, y_test)]]"
   ]
  },
  {
   "cell_type": "code",
   "execution_count": 91,
   "metadata": {},
   "outputs": [
    {
     "data": {
      "text/plain": [
       "SVR(C=10, cache_size=200, coef0=0.0, degree=3, epsilon=0.1, gamma=0.01,\n",
       "  kernel='rbf', max_iter=-1, shrinking=True, tol=0.001, verbose=False)"
      ]
     },
     "execution_count": 91,
     "metadata": {},
     "output_type": "execute_result"
    }
   ],
   "source": [
    "svr_rbf_pca = SVR(kernel = 'rbf', C = 10, gamma = 0.01)\n",
    "svr_rbf_pca.fit(X_reduced_train, y_train)"
   ]
  },
  {
   "cell_type": "code",
   "execution_count": 92,
   "metadata": {},
   "outputs": [
    {
     "name": "stdout",
     "output_type": "stream",
     "text": [
      "Train score: 0.18\n",
      "Test score: 0.16\n"
     ]
    }
   ],
   "source": [
    "print('Train score: {:.2f}'.format(svr_rbf_pca.score(X_reduced_train, y_train)))\n",
    "print('Test score: {:.2f}'.format(svr_rbf_pca.score(X_reduced_test, y_test)))"
   ]
  },
  {
   "cell_type": "code",
   "execution_count": 118,
   "metadata": {},
   "outputs": [],
   "source": [
    "pca_report_table = pca_report_table + [['PCA on RBF SVR', 'C = 10 and gamma = 0.01', svr_rbf_pca.score(X_reduced_train, y_train), svr_rbf_pca.score(X_reduced_test, y_test)]]"
   ]
  },
  {
   "cell_type": "code",
   "execution_count": 94,
   "metadata": {},
   "outputs": [
    {
     "data": {
      "text/plain": [
       "SVR(C=10, cache_size=200, coef0=0.0, degree=3, epsilon=0.1, gamma='auto',\n",
       "  kernel='rbf', max_iter=-1, shrinking=True, tol=0.001, verbose=False)"
      ]
     },
     "execution_count": 94,
     "metadata": {},
     "output_type": "execute_result"
    }
   ],
   "source": [
    "svr_poly_pca = SVR(degree = 3, C = 10)\n",
    "svr_poly_pca.fit(X_reduced_train, y_train)"
   ]
  },
  {
   "cell_type": "code",
   "execution_count": 95,
   "metadata": {},
   "outputs": [
    {
     "name": "stdout",
     "output_type": "stream",
     "text": [
      "Train score: 0.65\n",
      "Test score: 0.60\n"
     ]
    }
   ],
   "source": [
    "print('Train score: {:.2f}'.format(svr_poly_pca.score(X_reduced_train, y_train)))\n",
    "print('Test score: {:.2f}'.format(svr_poly_pca.score(X_reduced_test, y_test)))"
   ]
  },
  {
   "cell_type": "code",
   "execution_count": 119,
   "metadata": {},
   "outputs": [],
   "source": [
    "pca_report_table = pca_report_table + [['PCA on Poly SVR', 'C = 10', svr_poly_pca.score(X_reduced_train, y_train), svr_poly_pca.score(X_reduced_test, y_test)]]"
   ]
  },
  {
   "cell_type": "code",
   "execution_count": 120,
   "metadata": {},
   "outputs": [
    {
     "data": {
      "text/plain": [
       "[['PCA on KNN Regressor', 'K= 5', 0.9108550644288013, 0.8099988688093788],\n",
       " ['PCA on Linear Regression', '-', 0.8812008966937751, 0.8334947908279939],\n",
       " ['PCA on SGD Regression',\n",
       "  'max_iter = 10000 and penalty = l2',\n",
       "  0.8811870739521482,\n",
       "  0.8332734387805638],\n",
       " ['PCA on Ridge Regression',\n",
       "  'alpha = 0.01',\n",
       "  0.8812008966226625,\n",
       "  0.8334943300306239],\n",
       " ['PCA on Lasso Regression',\n",
       "  'alpha = 0.01',\n",
       "  0.8812008602713693,\n",
       "  0.8335024784065208],\n",
       " ['PCA on Linear SVR', 'C = 10', 0.8534043308219768, 0.7997601508493349],\n",
       " ['PCA on RBF SVR',\n",
       "  'C = 10 and gamma = 0.01',\n",
       "  0.17507438167339062,\n",
       "  0.1579639029127008],\n",
       " ['PCA on Poly SVR', 'C = 10', 0.646266115538918, 0.5962171082869866]]"
      ]
     },
     "execution_count": 120,
     "metadata": {},
     "output_type": "execute_result"
    }
   ],
   "source": [
    "pca_report_table"
   ]
  },
  {
   "cell_type": "code",
   "execution_count": 121,
   "metadata": {},
   "outputs": [
    {
     "data": {
      "text/html": [
       "<div>\n",
       "<style scoped>\n",
       "    .dataframe tbody tr th:only-of-type {\n",
       "        vertical-align: middle;\n",
       "    }\n",
       "\n",
       "    .dataframe tbody tr th {\n",
       "        vertical-align: top;\n",
       "    }\n",
       "\n",
       "    .dataframe thead th {\n",
       "        text-align: right;\n",
       "    }\n",
       "</style>\n",
       "<table border=\"1\" class=\"dataframe\">\n",
       "  <thead>\n",
       "    <tr style=\"text-align: right;\">\n",
       "      <th></th>\n",
       "      <th>Model name</th>\n",
       "      <th>Model parameter</th>\n",
       "      <th>Train accuracy</th>\n",
       "      <th>Test accuracy</th>\n",
       "    </tr>\n",
       "    <tr>\n",
       "      <th>Model name</th>\n",
       "      <th></th>\n",
       "      <th></th>\n",
       "      <th></th>\n",
       "      <th></th>\n",
       "    </tr>\n",
       "  </thead>\n",
       "  <tbody>\n",
       "    <tr>\n",
       "      <th>PCA on KNN Regressor</th>\n",
       "      <td>PCA on KNN Regressor</td>\n",
       "      <td>K= 5</td>\n",
       "      <td>0.910855</td>\n",
       "      <td>0.809999</td>\n",
       "    </tr>\n",
       "    <tr>\n",
       "      <th>PCA on Linear Regression</th>\n",
       "      <td>PCA on Linear Regression</td>\n",
       "      <td>-</td>\n",
       "      <td>0.881201</td>\n",
       "      <td>0.833495</td>\n",
       "    </tr>\n",
       "    <tr>\n",
       "      <th>PCA on SGD Regression</th>\n",
       "      <td>PCA on SGD Regression</td>\n",
       "      <td>max_iter = 10000 and penalty = l2</td>\n",
       "      <td>0.881187</td>\n",
       "      <td>0.833273</td>\n",
       "    </tr>\n",
       "    <tr>\n",
       "      <th>PCA on Ridge Regression</th>\n",
       "      <td>PCA on Ridge Regression</td>\n",
       "      <td>alpha = 0.01</td>\n",
       "      <td>0.881201</td>\n",
       "      <td>0.833494</td>\n",
       "    </tr>\n",
       "    <tr>\n",
       "      <th>PCA on Lasso Regression</th>\n",
       "      <td>PCA on Lasso Regression</td>\n",
       "      <td>alpha = 0.01</td>\n",
       "      <td>0.881201</td>\n",
       "      <td>0.833502</td>\n",
       "    </tr>\n",
       "    <tr>\n",
       "      <th>PCA on Linear SVR</th>\n",
       "      <td>PCA on Linear SVR</td>\n",
       "      <td>C = 10</td>\n",
       "      <td>0.853404</td>\n",
       "      <td>0.799760</td>\n",
       "    </tr>\n",
       "    <tr>\n",
       "      <th>PCA on RBF SVR</th>\n",
       "      <td>PCA on RBF SVR</td>\n",
       "      <td>C = 10 and gamma = 0.01</td>\n",
       "      <td>0.175074</td>\n",
       "      <td>0.157964</td>\n",
       "    </tr>\n",
       "    <tr>\n",
       "      <th>PCA on Poly SVR</th>\n",
       "      <td>PCA on Poly SVR</td>\n",
       "      <td>C = 10</td>\n",
       "      <td>0.646266</td>\n",
       "      <td>0.596217</td>\n",
       "    </tr>\n",
       "  </tbody>\n",
       "</table>\n",
       "</div>"
      ],
      "text/plain": [
       "                                        Model name  \\\n",
       "Model name                                           \n",
       "PCA on KNN Regressor          PCA on KNN Regressor   \n",
       "PCA on Linear Regression  PCA on Linear Regression   \n",
       "PCA on SGD Regression        PCA on SGD Regression   \n",
       "PCA on Ridge Regression    PCA on Ridge Regression   \n",
       "PCA on Lasso Regression    PCA on Lasso Regression   \n",
       "PCA on Linear SVR                PCA on Linear SVR   \n",
       "PCA on RBF SVR                      PCA on RBF SVR   \n",
       "PCA on Poly SVR                    PCA on Poly SVR   \n",
       "\n",
       "                                            Model parameter  Train accuracy  \\\n",
       "Model name                                                                    \n",
       "PCA on KNN Regressor                                   K= 5        0.910855   \n",
       "PCA on Linear Regression                                  -        0.881201   \n",
       "PCA on SGD Regression     max_iter = 10000 and penalty = l2        0.881187   \n",
       "PCA on Ridge Regression                        alpha = 0.01        0.881201   \n",
       "PCA on Lasso Regression                        alpha = 0.01        0.881201   \n",
       "PCA on Linear SVR                                    C = 10        0.853404   \n",
       "PCA on RBF SVR                      C = 10 and gamma = 0.01        0.175074   \n",
       "PCA on Poly SVR                                      C = 10        0.646266   \n",
       "\n",
       "                          Test accuracy  \n",
       "Model name                               \n",
       "PCA on KNN Regressor           0.809999  \n",
       "PCA on Linear Regression       0.833495  \n",
       "PCA on SGD Regression          0.833273  \n",
       "PCA on Ridge Regression        0.833494  \n",
       "PCA on Lasso Regression        0.833502  \n",
       "PCA on Linear SVR              0.799760  \n",
       "PCA on RBF SVR                 0.157964  \n",
       "PCA on Poly SVR                0.596217  "
      ]
     },
     "execution_count": 121,
     "metadata": {},
     "output_type": "execute_result"
    }
   ],
   "source": [
    "pca_report = pd.DataFrame(pca_report_table,columns = ['Model name', 'Model parameter', 'Train accuracy', 'Test accuracy'])\n",
    "pca_report.index = pca_report['Model name']\n",
    "pca_report"
   ]
  },
  {
   "cell_type": "markdown",
   "metadata": {},
   "source": [
    "Below are the results from project 2:"
   ]
  },
  {
   "cell_type": "code",
   "execution_count": 111,
   "metadata": {},
   "outputs": [
    {
     "data": {
      "image/jpeg": "[encoded data removed]",
      "text/plain": [
       "<IPython.core.display.Image object>"
      ]
     },
     "execution_count": 111,
     "metadata": {
      "image/jpeg": {
       "height": 700,
       "width": 700
      }
     },
     "output_type": "execute_result"
    }
   ],
   "source": [
    "from IPython.display import Image\n",
    "Image(filename = 'project2_results.jpg', width = 700, height = 700)"
   ]
  },
  {
   "cell_type": "markdown",
   "metadata": {},
   "source": [
    "Based on above results, it seems that PCA doesn't help in improving the results of the models. A plausible reason can be that by using PCA we are losing information. The components of PCA are not able to explain the required variance which all the original features togehter can."
   ]
  },
  {
   "cell_type": "markdown",
   "metadata": {},
   "source": [
    "### 6. Neual Network"
   ]
  },
  {
   "cell_type": "code",
   "execution_count": 6,
   "metadata": {},
   "outputs": [
    {
     "name": "stderr",
     "output_type": "stream",
     "text": [
      "Using TensorFlow backend.\n"
     ]
    }
   ],
   "source": [
    "from sklearn.model_selection import GridSearchCV\n",
    "from keras.models import Sequential\n",
    "from keras.layers import Dense\n",
    "from keras.wrappers.scikit_learn import KerasRegressor"
   ]
  },
  {
   "cell_type": "code",
   "execution_count": 7,
   "metadata": {},
   "outputs": [],
   "source": [
    "# create model, simple perceptron \n",
    "model = Sequential()\n",
    "model.add(Dense(55, input_dim=77, kernel_initializer='normal', activation='relu'))\n",
    "model.add(Dense(30, kernel_initializer='normal', activation='relu'))\n",
    "model.add(Dense(15, kernel_initializer='normal', activation='relu'))\n",
    "model.add(Dense(1, kernel_initializer='normal'))"
   ]
  },
  {
   "cell_type": "code",
   "execution_count": 8,
   "metadata": {},
   "outputs": [],
   "source": [
    "model.compile(loss='mse', optimizer='adam' , metrics = ['mse'])"
   ]
  },
  {
   "cell_type": "code",
   "execution_count": 9,
   "metadata": {},
   "outputs": [
    {
     "name": "stdout",
     "output_type": "stream",
     "text": [
      "Epoch 1/100\n",
      "43743/43743 [==============================] - 3s 62us/step - loss: 150273.0535 - mean_squared_error: 150273.0535\n",
      "Epoch 2/100\n",
      "43743/43743 [==============================] - 3s 62us/step - loss: 44375.2820 - mean_squared_error: 44375.2820\n",
      "Epoch 3/100\n",
      "43743/43743 [==============================] - 3s 59us/step - loss: 40203.1331 - mean_squared_error: 40203.1331\n",
      "Epoch 4/100\n",
      "43743/43743 [==============================] - 2s 53us/step - loss: 37749.1559 - mean_squared_error: 37749.1559\n",
      "Epoch 5/100\n",
      "43743/43743 [==============================] - 2s 54us/step - loss: 34875.7829 - mean_squared_error: 34875.7829\n",
      "Epoch 6/100\n",
      "43743/43743 [==============================] - 3s 67us/step - loss: 33208.1975 - mean_squared_error: 33208.1975\n",
      "Epoch 7/100\n",
      "43743/43743 [==============================] - 3s 74us/step - loss: 32591.8371 - mean_squared_error: 32591.8371\n",
      "Epoch 8/100\n",
      "43743/43743 [==============================] - 3s 72us/step - loss: 31542.8543 - mean_squared_error: 31542.8543\n",
      "Epoch 9/100\n",
      "43743/43743 [==============================] - 3s 64us/step - loss: 29996.2501 - mean_squared_error: 29996.2501\n",
      "Epoch 10/100\n",
      "43743/43743 [==============================] - 4s 96us/step - loss: 28803.5569 - mean_squared_error: 28803.5569\n",
      "Epoch 11/100\n",
      "43743/43743 [==============================] - 3s 73us/step - loss: 28267.8589 - mean_squared_error: 28267.8589\n",
      "Epoch 12/100\n",
      "43743/43743 [==============================] - 3s 69us/step - loss: 27749.7709 - mean_squared_error: 27749.7709\n",
      "Epoch 13/100\n",
      "43743/43743 [==============================] - 3s 64us/step - loss: 27440.4764 - mean_squared_error: 27440.4764\n",
      "Epoch 14/100\n",
      "43743/43743 [==============================] - 3s 62us/step - loss: 26531.2667 - mean_squared_error: 26531.2667\n",
      "Epoch 15/100\n",
      "43743/43743 [==============================] - 2s 52us/step - loss: 26088.8944 - mean_squared_error: 26088.8944\n",
      "Epoch 16/100\n",
      "43743/43743 [==============================] - 2s 55us/step - loss: 25436.9147 - mean_squared_error: 25436.9147\n",
      "Epoch 17/100\n",
      "43743/43743 [==============================] - 2s 56us/step - loss: 25444.7741 - mean_squared_error: 25444.7741\n",
      "Epoch 18/100\n",
      "43743/43743 [==============================] - 2s 55us/step - loss: 25290.9679 - mean_squared_error: 25290.9679\n",
      "Epoch 19/100\n",
      "43743/43743 [==============================] - 2s 54us/step - loss: 24729.2502 - mean_squared_error: 24729.2502\n",
      "Epoch 20/100\n",
      "43743/43743 [==============================] - 3s 60us/step - loss: 25070.3063 - mean_squared_error: 25070.3063\n",
      "Epoch 21/100\n",
      "43743/43743 [==============================] - 3s 64us/step - loss: 24488.2584 - mean_squared_error: 24488.2584\n",
      "Epoch 22/100\n",
      "43743/43743 [==============================] - 2s 56us/step - loss: 24902.4566 - mean_squared_error: 24902.4566\n",
      "Epoch 23/100\n",
      "43743/43743 [==============================] - 2s 53us/step - loss: 24181.5812 - mean_squared_error: 24181.5812\n",
      "Epoch 24/100\n",
      "43743/43743 [==============================] - 2s 54us/step - loss: 23491.7446 - mean_squared_error: 23491.7446\n",
      "Epoch 25/100\n",
      "43743/43743 [==============================] - 2s 53us/step - loss: 23822.9194 - mean_squared_error: 23822.9194\n",
      "Epoch 26/100\n",
      "43743/43743 [==============================] - 2s 54us/step - loss: 23421.8406 - mean_squared_error: 23421.8406\n",
      "Epoch 27/100\n",
      "43743/43743 [==============================] - 2s 54us/step - loss: 23527.4261 - mean_squared_error: 23527.4261\n",
      "Epoch 28/100\n",
      "43743/43743 [==============================] - 2s 54us/step - loss: 23305.4133 - mean_squared_error: 23305.4133\n",
      "Epoch 29/100\n",
      "43743/43743 [==============================] - 3s 74us/step - loss: 22489.0661 - mean_squared_error: 22489.0661\n",
      "Epoch 30/100\n",
      "43743/43743 [==============================] - 3s 72us/step - loss: 23164.6428 - mean_squared_error: 23164.6428\n",
      "Epoch 31/100\n",
      "43743/43743 [==============================] - 3s 77us/step - loss: 22789.7119 - mean_squared_error: 22789.7119\n",
      "Epoch 32/100\n",
      "43743/43743 [==============================] - 2s 51us/step - loss: 22615.1708 - mean_squared_error: 22615.1708\n",
      "Epoch 33/100\n",
      "43743/43743 [==============================] - 2s 46us/step - loss: 23099.5997 - mean_squared_error: 23099.5997\n",
      "Epoch 34/100\n",
      "43743/43743 [==============================] - 2s 56us/step - loss: 22458.9928 - mean_squared_error: 22458.9928\n",
      "Epoch 35/100\n",
      "43743/43743 [==============================] - 2s 45us/step - loss: 21851.0883 - mean_squared_error: 21851.0883\n",
      "Epoch 36/100\n",
      "43743/43743 [==============================] - 2s 43us/step - loss: 22992.4588 - mean_squared_error: 22992.4588\n",
      "Epoch 37/100\n",
      "43743/43743 [==============================] - 2s 42us/step - loss: 22654.1321 - mean_squared_error: 22654.1321\n",
      "Epoch 38/100\n",
      "43743/43743 [==============================] - 2s 47us/step - loss: 22208.1374 - mean_squared_error: 22208.1374\n",
      "Epoch 39/100\n",
      "43743/43743 [==============================] - 2s 42us/step - loss: 22521.8261 - mean_squared_error: 22521.8261\n",
      "Epoch 40/100\n",
      "43743/43743 [==============================] - 2s 42us/step - loss: 22114.9563 - mean_squared_error: 22114.9563\n",
      "Epoch 41/100\n",
      "43743/43743 [==============================] - 2s 45us/step - loss: 22290.2711 - mean_squared_error: 22290.2711\n",
      "Epoch 42/100\n",
      "43743/43743 [==============================] - 2s 41us/step - loss: 22011.9220 - mean_squared_error: 22011.9220\n",
      "Epoch 43/100\n",
      "43743/43743 [==============================] - 2s 42us/step - loss: 21919.7022 - mean_squared_error: 21919.7022\n",
      "Epoch 44/100\n",
      "43743/43743 [==============================] - 2s 43us/step - loss: 22044.6861 - mean_squared_error: 22044.6861\n",
      "Epoch 45/100\n",
      "43743/43743 [==============================] - 2s 44us/step - loss: 22017.5505 - mean_squared_error: 22017.5505\n",
      "Epoch 46/100\n",
      "43743/43743 [==============================] - 2s 48us/step - loss: 21857.3724 - mean_squared_error: 21857.3724\n",
      "Epoch 47/100\n",
      "43743/43743 [==============================] - 2s 42us/step - loss: 21428.0780 - mean_squared_error: 21428.0780\n",
      "Epoch 48/100\n",
      "43743/43743 [==============================] - 2s 41us/step - loss: 21613.0963 - mean_squared_error: 21613.0963\n",
      "Epoch 49/100\n",
      "43743/43743 [==============================] - 2s 46us/step - loss: 21230.4284 - mean_squared_error: 21230.4284\n",
      "Epoch 50/100\n",
      "43743/43743 [==============================] - 3s 66us/step - loss: 21189.4730 - mean_squared_error: 21189.4730\n",
      "Epoch 51/100\n",
      "43743/43743 [==============================] - 2s 52us/step - loss: 21200.2478 - mean_squared_error: 21200.2478\n",
      "Epoch 52/100\n",
      "43743/43743 [==============================] - 2s 48us/step - loss: 21009.1803 - mean_squared_error: 21009.1803\n",
      "Epoch 53/100\n",
      "43743/43743 [==============================] - 2s 48us/step - loss: 21004.3850 - mean_squared_error: 21004.3850\n",
      "Epoch 54/100\n",
      "43743/43743 [==============================] - 2s 46us/step - loss: 21308.3011 - mean_squared_error: 21308.3011\n",
      "Epoch 55/100\n",
      "43743/43743 [==============================] - 2s 46us/step - loss: 20776.0985 - mean_squared_error: 20776.0985\n",
      "Epoch 56/100\n",
      "43743/43743 [==============================] - 2s 50us/step - loss: 20877.0989 - mean_squared_error: 20877.0989\n",
      "Epoch 57/100\n",
      "43743/43743 [==============================] - 2s 46us/step - loss: 20949.3427 - mean_squared_error: 20949.3427\n",
      "Epoch 58/100\n",
      "43743/43743 [==============================] - 2s 51us/step - loss: 20912.8435 - mean_squared_error: 20912.8435\n",
      "Epoch 59/100\n",
      "43743/43743 [==============================] - 2s 54us/step - loss: 21145.8199 - mean_squared_error: 21145.8199\n",
      "Epoch 60/100\n",
      "43743/43743 [==============================] - 2s 47us/step - loss: 20839.7692 - mean_squared_error: 20839.7692\n",
      "Epoch 61/100\n",
      "43743/43743 [==============================] - 2s 52us/step - loss: 20726.8151 - mean_squared_error: 20726.8151\n",
      "Epoch 62/100\n",
      "43743/43743 [==============================] - 2s 54us/step - loss: 20036.7867 - mean_squared_error: 20036.7867\n",
      "Epoch 63/100\n",
      "43743/43743 [==============================] - 2s 49us/step - loss: 20867.5802 - mean_squared_error: 20867.5802\n",
      "Epoch 64/100\n",
      "43743/43743 [==============================] - 2s 45us/step - loss: 20595.1906 - mean_squared_error: 20595.1906\n",
      "Epoch 65/100\n",
      "43743/43743 [==============================] - 2s 46us/step - loss: 20281.8347 - mean_squared_error: 20281.8347\n",
      "Epoch 66/100\n",
      "43743/43743 [==============================] - 2s 46us/step - loss: 20557.0434 - mean_squared_error: 20557.0434\n",
      "Epoch 67/100\n",
      "43743/43743 [==============================] - 2s 47us/step - loss: 20257.7501 - mean_squared_error: 20257.7501\n",
      "Epoch 68/100\n",
      "43743/43743 [==============================] - 2s 49us/step - loss: 20312.8459 - mean_squared_error: 20312.8459\n",
      "Epoch 69/100\n",
      "43743/43743 [==============================] - 3s 62us/step - loss: 20389.2067 - mean_squared_error: 20389.2067\n",
      "Epoch 70/100\n",
      "43743/43743 [==============================] - 2s 46us/step - loss: 19967.0229 - mean_squared_error: 19967.0229\n",
      "Epoch 71/100\n",
      "43743/43743 [==============================] - 2s 53us/step - loss: 19888.8578 - mean_squared_error: 19888.8578\n",
      "Epoch 72/100\n",
      "43743/43743 [==============================] - 2s 48us/step - loss: 19796.4013 - mean_squared_error: 19796.4013\n",
      "Epoch 73/100\n",
      "43743/43743 [==============================] - 3s 71us/step - loss: 20235.9612 - mean_squared_error: 20235.9612\n",
      "Epoch 74/100\n",
      "43743/43743 [==============================] - 3s 72us/step - loss: 20146.8566 - mean_squared_error: 20146.8566\n",
      "Epoch 75/100\n",
      "43743/43743 [==============================] - 3s 69us/step - loss: 19997.8197 - mean_squared_error: 19997.8197\n",
      "Epoch 76/100\n",
      "43743/43743 [==============================] - 3s 66us/step - loss: 19846.7254 - mean_squared_error: 19846.7254\n",
      "Epoch 77/100\n",
      "43743/43743 [==============================] - 3s 73us/step - loss: 20102.7711 - mean_squared_error: 20102.7711\n",
      "Epoch 78/100\n",
      "43743/43743 [==============================] - 2s 54us/step - loss: 19471.2864 - mean_squared_error: 19471.2864\n",
      "Epoch 79/100\n",
      "43743/43743 [==============================] - 3s 57us/step - loss: 19702.1013 - mean_squared_error: 19702.1013\n",
      "Epoch 80/100\n",
      "43743/43743 [==============================] - 2s 52us/step - loss: 19691.7260 - mean_squared_error: 19691.7260\n",
      "Epoch 81/100\n",
      "43743/43743 [==============================] - 2s 55us/step - loss: 19636.7792 - mean_squared_error: 19636.7792\n",
      "Epoch 82/100\n",
      "43743/43743 [==============================] - 2s 53us/step - loss: 19392.4426 - mean_squared_error: 19392.4426\n",
      "Epoch 83/100\n",
      "43743/43743 [==============================] - 2s 54us/step - loss: 19573.5204 - mean_squared_error: 19573.5204\n",
      "Epoch 84/100\n",
      "43743/43743 [==============================] - 2s 53us/step - loss: 19366.7216 - mean_squared_error: 19366.7216\n",
      "Epoch 85/100\n",
      "43743/43743 [==============================] - 2s 56us/step - loss: 19210.7645 - mean_squared_error: 19210.7645\n",
      "Epoch 86/100\n",
      "43743/43743 [==============================] - 2s 54us/step - loss: 19386.9738 - mean_squared_error: 19386.9738\n",
      "Epoch 87/100\n",
      "43743/43743 [==============================] - 3s 58us/step - loss: 19481.8435 - mean_squared_error: 19481.8435\n",
      "Epoch 88/100\n",
      "43743/43743 [==============================] - 3s 74us/step - loss: 18932.5982 - mean_squared_error: 18932.5982\n",
      "Epoch 89/100\n",
      "43743/43743 [==============================] - 3s 70us/step - loss: 19081.9388 - mean_squared_error: 19081.9388\n",
      "Epoch 90/100\n",
      "43743/43743 [==============================] - 2s 53us/step - loss: 18997.3991 - mean_squared_error: 18997.3991\n",
      "Epoch 91/100\n",
      "43743/43743 [==============================] - 4s 90us/step - loss: 19246.4849 - mean_squared_error: 19246.4849\n",
      "Epoch 92/100\n",
      "43743/43743 [==============================] - 3s 63us/step - loss: 18968.1621 - mean_squared_error: 18968.1621\n",
      "Epoch 93/100\n",
      "43743/43743 [==============================] - 3s 60us/step - loss: 19168.1606 - mean_squared_error: 19168.1606\n",
      "Epoch 94/100\n",
      "43743/43743 [==============================] - 4s 101us/step - loss: 19188.6621 - mean_squared_error: 19188.66210s - loss: 19633.7629 - mean_squared_error\n",
      "Epoch 95/100\n",
      "43743/43743 [==============================] - 3s 61us/step - loss: 19423.6509 - mean_squared_error: 19423.6509\n",
      "Epoch 96/100\n",
      "43743/43743 [==============================] - 3s 58us/step - loss: 19312.8603 - mean_squared_error: 19312.8603\n",
      "Epoch 97/100\n",
      "43743/43743 [==============================] - 3s 65us/step - loss: 19109.7103 - mean_squared_error: 19109.7103\n",
      "Epoch 98/100\n",
      "43743/43743 [==============================] - 3s 80us/step - loss: 19203.2096 - mean_squared_error: 19203.2096\n",
      "Epoch 99/100\n",
      "43743/43743 [==============================] - 3s 58us/step - loss: 18728.7311 - mean_squared_error: 18728.7311\n",
      "Epoch 100/100\n",
      "43743/43743 [==============================] - 3s 60us/step - loss: 19078.6462 - mean_squared_error: 19078.6462\n"
     ]
    },
    {
     "data": {
      "text/plain": [
       "<keras.callbacks.History at 0x19055119e10>"
      ]
     },
     "execution_count": 9,
     "metadata": {},
     "output_type": "execute_result"
    }
   ],
   "source": [
    "model.fit(X_train, y_train, epochs = 100, batch_size = 20)"
   ]
  },
  {
   "cell_type": "code",
   "execution_count": 11,
   "metadata": {},
   "outputs": [
    {
     "name": "stdout",
     "output_type": "stream",
     "text": [
      "43743/43743 [==============================] - 1s 15us/step\n"
     ]
    },
    {
     "data": {
      "text/plain": [
       "[19289.43139221472, 19289.43139221472]"
      ]
     },
     "execution_count": 11,
     "metadata": {},
     "output_type": "execute_result"
    }
   ],
   "source": [
    "model.evaluate(X_train, y_train)"
   ]
  },
  {
   "cell_type": "code",
   "execution_count": 12,
   "metadata": {},
   "outputs": [
    {
     "name": "stdout",
     "output_type": "stream",
     "text": [
      "Train score: 0.94\n",
      "Test score: 0.96\n"
     ]
    }
   ],
   "source": [
    "from sklearn.metrics import r2_score\n",
    "\n",
    "y_train_predict = model.predict(X_train)\n",
    "y_test_predict = model.predict(X_test)\n",
    "\n",
    "print('Train score: {:.2f}'.format(r2_score(y_train, y_train_predict)))\n",
    "print('Test score: {:.2f}'.format(r2_score(y_test, y_test_predict)))"
   ]
  }
 ],
 "metadata": {
  "kernelspec": {
   "display_name": "Python 3",
   "language": "python",
   "name": "python3"
  },
  "language_info": {
   "codemirror_mode": {
    "name": "ipython",
    "version": 3
   },
   "file_extension": ".py",
   "mimetype": "text/x-python",
   "name": "python",
   "nbconvert_exporter": "python",
   "pygments_lexer": "ipython3",
   "version": "3.5.6"
  }
 },
 "nbformat": 4,
 "nbformat_minor": 2
}
